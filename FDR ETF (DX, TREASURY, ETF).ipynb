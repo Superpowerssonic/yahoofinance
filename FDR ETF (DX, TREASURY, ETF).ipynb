{
 "cells": [
  {
   "cell_type": "code",
   "execution_count": null,
   "id": "c5b6146d",
   "metadata": {},
   "outputs": [],
   "source": [
    "# matplotlib rebuild\n",
    "import matplotlib as mpl\n",
    "import FinanceDataReader as fdr\n",
    "import pandas as pd\n",
    "import numpy as np\n",
    "import pandas_datareader as pdr\n",
    "import yfinance as yf\n",
    "import datetime\n",
    "\n",
    "# mpl.font_manager._rebuild()\n",
    "\n",
    "# matplotlib 환경 설정\n",
    "import matplotlib.pyplot as plt\n",
    "mpl.rcParams['font.family'] = 'Malgun Gothic' # window\n",
    "plt.rcParams[\"axes.grid\"] = True\n",
    "plt.rcParams[\"figure.figsize\"] = (12,6)\n",
    "plt.rcParams[\"axes.formatter.useoffset\"] = False\n",
    "plt.rcParams['axes.unicode_minus'] = False\n",
    "plt.rcParams[\"axes.formatter.limits\"] = -10000, 10000\n"
   ]
  },
  {
   "cell_type": "markdown",
   "id": "13e7a353",
   "metadata": {},
   "source": [
    "## 데이터 가져오기"
   ]
  },
  {
   "cell_type": "markdown",
   "id": "87ddadbd",
   "metadata": {},
   "source": [
    "### Treasury pandas core ndarray dataframe 형태"
   ]
  },
  {
   "cell_type": "code",
   "execution_count": null,
   "id": "e472cd8e",
   "metadata": {},
   "outputs": [],
   "source": [
    "dx = ['DX-Y.NYB']\n",
    "# commodity_symbol = \"GC=F\"  # Gold symbol\n",
    "start_date = \"2020-01-01\"\n",
    "end_date = \"2023-06-27\"\n",
    "\n",
    "for tn in dx:\n",
    "    data_dx = yf.download(dx, start=start_date, end=end_date)['Close']\n",
    "print(data_dx.tail(10))"
   ]
  },
  {
   "cell_type": "code",
   "execution_count": null,
   "id": "4fe5be4b",
   "metadata": {},
   "outputs": [],
   "source": [
    "Treasury_list = ['^TNX','^TYX']\n",
    "# commodity_symbol = \"GC=F\"  # Gold symbol\n",
    "start_date = \"2020-01-01\"\n",
    "end_date = \"2023-06-27\"\n",
    "\n",
    "for tn in Treasury_list:\n",
    "    data_treasury = yf.download(Treasury_list, start=start_date, end=end_date)['Close']\n",
    "print(data_treasury.tail(10))"
   ]
  },
  {
   "cell_type": "markdown",
   "id": "d572974e",
   "metadata": {},
   "source": [
    "### ETF pandas core ndarray dataframe "
   ]
  },
  {
   "cell_type": "code",
   "execution_count": null,
   "id": "ffa493c0",
   "metadata": {},
   "outputs": [],
   "source": [
    "Etf_list = ['SOXX','SOXL','QQQ','TQQQ','SPY','TLT']\n",
    "# commodity_symbol = \"GC=F\"  # Gold symbol\n",
    "start_date = \"2020-01-01\"\n",
    "end_date = \"2023-06-27\"\n",
    "\n",
    "for etf in Etf_list:\n",
    "    data_etf = yf.download(Etf_list, start=start_date, end=end_date)['Close']\n",
    "print(data_etf)"
   ]
  },
  {
   "cell_type": "markdown",
   "id": "af9f7e79",
   "metadata": {},
   "source": [
    "### 개별 pandas core ndarray dataframe 병합"
   ]
  },
  {
   "cell_type": "code",
   "execution_count": null,
   "id": "040d2808",
   "metadata": {
    "scrolled": false
   },
   "outputs": [],
   "source": [
    "df_list = [data_dx, data_treasury]\n",
    "merged_df = pd.concat(df_list, axis=1)\n",
    "merged_df"
   ]
  },
  {
   "cell_type": "code",
   "execution_count": null,
   "id": "ccaf772c",
   "metadata": {},
   "outputs": [],
   "source": [
    "merged_df = merged_df.dropna()\n",
    "merged_df.isnull()"
   ]
  },
  {
   "cell_type": "markdown",
   "id": "10edbbeb",
   "metadata": {},
   "source": [
    "usdkrw = fdr.DataReader('USD/KRW', '2020')\n",
    "usdkrw['Close'].tail()"
   ]
  },
  {
   "cell_type": "markdown",
   "id": "cadeb779",
   "metadata": {},
   "source": [
    "usdeur = fdr.DataReader('USD/EUR', '2020')\n",
    "usdeur['Close'].tail()"
   ]
  },
  {
   "cell_type": "markdown",
   "id": "bcf51e30",
   "metadata": {},
   "source": [
    "usdjpy = fdr.DataReader('USD/JPY', '2020')\n",
    "usdjpy['Close'].tail()"
   ]
  },
  {
   "cell_type": "markdown",
   "id": "a016fef7",
   "metadata": {},
   "source": [
    "eurjpy = fdr.DataReader('EUR/JPY', '2020')\n",
    "eurjpy['Close'].tail()"
   ]
  },
  {
   "cell_type": "markdown",
   "id": "0127d603",
   "metadata": {},
   "source": [
    "usdgbp = fdr.DataReader('USD/GBP', '2020')\n",
    "usdgbp['Close'].tail()"
   ]
  },
  {
   "cell_type": "markdown",
   "id": "4ae86ef3",
   "metadata": {},
   "source": [
    "## 데이터 시각화"
   ]
  },
  {
   "cell_type": "code",
   "execution_count": null,
   "id": "87fae8cb",
   "metadata": {
    "scrolled": false
   },
   "outputs": [],
   "source": [
    "merged_df.plot(secondary_y=['^TNX'])"
   ]
  },
  {
   "cell_type": "code",
   "execution_count": null,
   "id": "55d74843",
   "metadata": {},
   "outputs": [],
   "source": []
  },
  {
   "cell_type": "code",
   "execution_count": null,
   "id": "800f113c",
   "metadata": {},
   "outputs": [],
   "source": []
  },
  {
   "cell_type": "code",
   "execution_count": null,
   "id": "9d6d8fd8",
   "metadata": {},
   "outputs": [],
   "source": []
  },
  {
   "cell_type": "markdown",
   "id": "b48fe9e8",
   "metadata": {},
   "source": [
    "## y 보조축 만들기"
   ]
  },
  {
   "cell_type": "code",
   "execution_count": null,
   "id": "387eadb3",
   "metadata": {},
   "outputs": [],
   "source": [
    "df[['SOXL', 'TQQQ']].plot(secondary_y=['TQQQ'])"
   ]
  },
  {
   "cell_type": "markdown",
   "id": "923bb1bf",
   "metadata": {},
   "source": [
    "## 비교를 위해 데이터 정규화\n",
    "- 전체 데이터를 첫번째 row로 나누고 -1.0"
   ]
  },
  {
   "cell_type": "code",
   "execution_count": null,
   "id": "48b7c026",
   "metadata": {},
   "outputs": [],
   "source": [
    "df2 = df[['LG화학', '삼성전자']]\n",
    "\n",
    "df_plot = df2 / df2.iloc[0] - 1.0\n",
    "df_plot.plot()"
   ]
  },
  {
   "cell_type": "markdown",
   "id": "7a003482",
   "metadata": {},
   "source": [
    "## 여러 종목 정규화 및 비교 차트"
   ]
  },
  {
   "cell_type": "code",
   "execution_count": null,
   "id": "ee8b49f7",
   "metadata": {},
   "outputs": [],
   "source": [
    "merged_df_norm = merged_df / merged_df.iloc[0] - 1\n",
    "merged_df_norm.plot()"
   ]
  },
  {
   "cell_type": "code",
   "execution_count": null,
   "id": "bb6ba12f",
   "metadata": {
    "scrolled": true
   },
   "outputs": [],
   "source": [
    "merged_df_norm.iloc[-1].sort_values(ascending=False)"
   ]
  },
  {
   "cell_type": "markdown",
   "id": "f21a0ed0",
   "metadata": {},
   "source": [
    "## 회귀분석 하기\n",
    "### DX/TNX,TYX\n",
    "- 상관관계를 분석해서 업종 지수에 대한 비교 및 특정 종목이 따라가지 못 하는 경우 내.외부 요인 판단 가능"
   ]
  },
  {
   "cell_type": "code",
   "execution_count": null,
   "id": "4bd1028a",
   "metadata": {},
   "outputs": [],
   "source": [
    "from sklearn.linear_model import LinearRegression #sklearn 싸이킷런에서 회귀모델을 가져오겠다.\n",
    "import numpy as np\n",
    "from sklearn.impute import SimpleImputer"
   ]
  },
  {
   "cell_type": "code",
   "execution_count": null,
   "id": "d16b45a2",
   "metadata": {},
   "outputs": [],
   "source": [
    "X = merged_df.iloc[:,np.ravel(0)].values # SOXL\n",
    "y = merged_df.iloc[:,-1].values # ^TNX\n",
    "X,y\n",
    "# len(X), len(y)"
   ]
  },
  {
   "cell_type": "code",
   "execution_count": null,
   "id": "1be38ad6",
   "metadata": {},
   "outputs": [],
   "source": [
    "y.shape, X.shape"
   ]
  },
  {
   "cell_type": "code",
   "execution_count": null,
   "id": "e0843ba9",
   "metadata": {},
   "outputs": [],
   "source": [
    "imputer = SimpleImputer(strategy='mean')\n",
    "y = imputer.fit_transform(y)"
   ]
  },
  {
   "cell_type": "code",
   "execution_count": null,
   "id": "be0a92ab",
   "metadata": {
    "scrolled": true
   },
   "outputs": [],
   "source": [
    "reg = LinearRegression() # 객체 생성\n",
    "reg.fit(X,y) # fit이 학습모델 -> 학습하면서 모델생성"
   ]
  },
  {
   "cell_type": "code",
   "execution_count": null,
   "id": "43871d98",
   "metadata": {
    "scrolled": true
   },
   "outputs": [],
   "source": [
    "y_pred = reg.predict(X) # X에 대한 예측 값\n",
    "y_pred"
   ]
  },
  {
   "cell_type": "code",
   "execution_count": null,
   "id": "0e3d1057",
   "metadata": {},
   "outputs": [],
   "source": [
    "X.shape, y.shape"
   ]
  },
  {
   "cell_type": "code",
   "execution_count": null,
   "id": "0c7042b7",
   "metadata": {},
   "outputs": [],
   "source": [
    "plt.scatter(X,y, color='blue') # 산점도 그래프 (실제 값 그래프)\n",
    "plt.plot(X, y_pred, color='green')  # 선 그래프 (싸이킷런에서 회귀모델로 학습한 훟 예측한 그래프)\n",
    "plt.title('^TYX BY DX')\n",
    "plt.xlabel('DX')\n",
    "plt.ylabel('^TYX')\n",
    "plt.show()"
   ]
  },
  {
   "cell_type": "code",
   "execution_count": null,
   "id": "2f8153e9",
   "metadata": {},
   "outputs": [],
   "source": [
    "print('SOXL에 따른 TNX 예측 값 :', reg.predict([[103]]))\n",
    "# print('9,8,10시간 공부했을 때 예상 점수 :', reg.predict([[9],[8],[10]]))"
   ]
  },
  {
   "cell_type": "code",
   "execution_count": null,
   "id": "aa01632b",
   "metadata": {},
   "outputs": [],
   "source": [
    "reg.coef_, reg.intercept_"
   ]
  },
  {
   "cell_type": "markdown",
   "id": "b767625c",
   "metadata": {},
   "source": [
    "## 데이터 세트 분리"
   ]
  },
  {
   "cell_type": "code",
   "execution_count": null,
   "id": "7e50d3ea",
   "metadata": {},
   "outputs": [],
   "source": [
    "from sklearn.model_selection import train_test_split  # 데이터 분리는 sklearn.moder_selection 이고 리니어는 sklearn.linear_modeol import LinearRegression\n",
    "X_train, X_test, y_train, y_test = train_test_split(X,y, test_size=0.2, random_state=0)  # 테스트 사이즈를 8:2로 하겠다 test_size = 0.2 random_state = 0 은 그냥 확인용"
   ]
  },
  {
   "cell_type": "code",
   "execution_count": null,
   "id": "2e6c77dc",
   "metadata": {},
   "outputs": [],
   "source": [
    "len(X_train), len(X_test)"
   ]
  },
  {
   "cell_type": "code",
   "execution_count": null,
   "id": "106e5dd1",
   "metadata": {},
   "outputs": [],
   "source": [
    "len(y_train), len(y_test)"
   ]
  },
  {
   "cell_type": "markdown",
   "id": "bd5673c7",
   "metadata": {},
   "source": [
    "### 분리된 데이터를 통해 모델링"
   ]
  },
  {
   "cell_type": "code",
   "execution_count": null,
   "id": "8703bca8",
   "metadata": {},
   "outputs": [],
   "source": [
    "reg = LinearRegression()\n",
    "reg.fit(X_train, y_train) # 훈련세트로 학습"
   ]
  },
  {
   "cell_type": "code",
   "execution_count": null,
   "id": "b9a94053",
   "metadata": {},
   "outputs": [],
   "source": [
    "plt.scatter(X_train,y_train, color='blue') # 산점도 그래프 -> 실제 값?\n",
    "plt.plot(X_train, reg.predict(X_train), color='green')  # 선 그래프  -> 예측 값?\n",
    "plt.title('^TNX BY SOXL')\n",
    "plt.xlabel('SOXL')\n",
    "plt.ylabel('^TNX')\n",
    "plt.show()"
   ]
  },
  {
   "cell_type": "code",
   "execution_count": null,
   "id": "248713ac",
   "metadata": {},
   "outputs": [],
   "source": [
    "plt.scatter(X_test,y_test, color='blue') # 산점도 그래프\n",
    "plt.plot(X_train, reg.predict(X_train), color='green')  # 선 그래프 \n",
    "plt.title('^TYX BY DX')\n",
    "plt.xlabel('DX')\n",
    "plt.ylabel('^TYX')\n",
    "plt.show()"
   ]
  },
  {
   "cell_type": "code",
   "execution_count": null,
   "id": "60283b07",
   "metadata": {},
   "outputs": [],
   "source": [
    "reg.coef_, reg.intercept_"
   ]
  },
  {
   "cell_type": "markdown",
   "id": "8d0bc336",
   "metadata": {},
   "source": [
    "### 모델평가"
   ]
  },
  {
   "cell_type": "code",
   "execution_count": null,
   "id": "41aaad4c",
   "metadata": {},
   "outputs": [],
   "source": [
    "reg.score(X_train, y_train)"
   ]
  },
  {
   "cell_type": "code",
   "execution_count": null,
   "id": "a10f86f1",
   "metadata": {},
   "outputs": [],
   "source": [
    "reg.score(X_test, y_test)"
   ]
  },
  {
   "cell_type": "markdown",
   "id": "60972b8f",
   "metadata": {},
   "source": [
    "### 경사하강법"
   ]
  },
  {
   "cell_type": "code",
   "execution_count": null,
   "id": "b5064e30",
   "metadata": {},
   "outputs": [],
   "source": [
    "from sklearn.linear_model import SGDRegressor # SGF 확률적 경사하강법 \n",
    "#지수 표기법\n",
    "#1e-3 = 0.001 10^-3\n",
    "#1e-4 = 0.0001 10^-4\n",
    "#1e+3 = 1000 10^3\n",
    "#1e+4 = 10000 10^4\n",
    "\n",
    "\n",
    "# sr = SGDRegressor()\n",
    "sr = SGDRegressor(max_iter=1000, eta0=1e-4, random_state=0, verbose=1)  #에포크 방식\n",
    "sr.fit(X_train, y_train)"
   ]
  },
  {
   "cell_type": "code",
   "execution_count": null,
   "id": "5ec0fee4",
   "metadata": {},
   "outputs": [],
   "source": [
    "plt.scatter(X_test,y_test, color='blue') # 산점도 그래프\n",
    "plt.plot(X_train, sr.predict(X_train), color='green')  # 선 그래프 \n",
    "plt.title('하이닉스 BY 삼성전자(train data)')\n",
    "plt.xlabel('삼성전자')\n",
    "plt.ylabel('하이닉스')\n",
    "plt.show()"
   ]
  },
  {
   "cell_type": "code",
   "execution_count": null,
   "id": "43eb1cb2",
   "metadata": {},
   "outputs": [],
   "source": [
    "sr.coef_, sr.intercept_"
   ]
  },
  {
   "cell_type": "code",
   "execution_count": null,
   "id": "44d02abe",
   "metadata": {},
   "outputs": [],
   "source": [
    "sr.score(X_test, y_test) # 테스트 세트를 통한 모델평가"
   ]
  },
  {
   "cell_type": "code",
   "execution_count": null,
   "id": "80b62bf3",
   "metadata": {},
   "outputs": [],
   "source": [
    "sr.score(X_train, y_train) # 룬련 세트를 통한 모델평가"
   ]
  },
  {
   "cell_type": "code",
   "execution_count": null,
   "id": "4bf437ae",
   "metadata": {},
   "outputs": [],
   "source": [
    "pip install pandas-datareader"
   ]
  },
  {
   "cell_type": "code",
   "execution_count": null,
   "id": "91472024",
   "metadata": {
    "scrolled": true
   },
   "outputs": [],
   "source": [
    "import pandas as pd\n",
    "import numpy as np\n",
    "import pandas_datareader as pdr\n",
    "import yfinance as yf\n",
    "import datetime\n",
    "\n",
    "commodity_symbol = \"GC=F\"  # Gold symbol\n",
    "start_date = \"2023-01-01\"\n",
    "end_date = \"2023-06-27\"\n",
    "\n",
    "data = yf.download(commodity_symbol, start=start_date, end=end_date)\n",
    "print(data.tail(10))"
   ]
  }
 ],
 "metadata": {
  "kernelspec": {
   "display_name": "Python 3 (ipykernel)",
   "language": "python",
   "name": "python3"
  },
  "language_info": {
   "codemirror_mode": {
    "name": "ipython",
    "version": 3
   },
   "file_extension": ".py",
   "mimetype": "text/x-python",
   "name": "python",
   "nbconvert_exporter": "python",
   "pygments_lexer": "ipython3",
   "version": "3.10.9"
  }
 },
 "nbformat": 4,
 "nbformat_minor": 5
}
