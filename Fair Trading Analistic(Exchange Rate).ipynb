{
 "cells": [
  {
   "cell_type": "code",
   "execution_count": 1,
   "id": "c5b6146d",
   "metadata": {},
   "outputs": [],
   "source": [
    "# matplotlib rebuild\n",
    "import matplotlib as mpl\n",
    "import FinanceDataReader as fdr\n",
    "\n",
    "# mpl.font_manager._rebuild()\n",
    "\n",
    "# matplotlib 환경 설정\n",
    "import matplotlib.pyplot as plt\n",
    "mpl.rcParams['font.family'] = 'Malgun Gothic' # window\n",
    "plt.rcParams[\"axes.grid\"] = True\n",
    "plt.rcParams[\"figure.figsize\"] = (12,6)\n",
    "plt.rcParams[\"axes.formatter.useoffset\"] = False\n",
    "plt.rcParams['axes.unicode_minus'] = False\n",
    "plt.rcParams[\"axes.formatter.limits\"] = -10000, 10000\n"
   ]
  },
  {
   "cell_type": "markdown",
   "id": "36c44968",
   "metadata": {},
   "source": [
    "- USD/KRW 달러당 원화 환율\n",
    "- USD/EUR 달러당 유로화 환율\n",
    "- USD/JPY 달러당 엔화 환율\n",
    "- CNY/KRW 위엔화 원화 환율\n",
    "- EUR/USD 유로화 달러 환율\n",
    "- USD/JPY 달러 엔화 환율\n",
    "- JPY/KRW 엔화 원화 환율\n",
    "- AUD/USD 오스트레일리아 달러 환율\n",
    "- EUR/JPY 유로화 엔화 환율\n",
    "- USD/RUB 달러 루블화"
   ]
  },
  {
   "cell_type": "markdown",
   "id": "13e7a353",
   "metadata": {},
   "source": [
    "## 데이터 가져오기"
   ]
  },
  {
   "cell_type": "code",
   "execution_count": 2,
   "id": "f9524f72",
   "metadata": {},
   "outputs": [],
   "source": [
    "exchange_list = [\n",
    "  ['USD/KRW','USD/KRW'],\n",
    "  ['USD/EUR','USD/EUR'],\n",
    "  ['USD/JPY','USD/JPY'],\n",
    "  ['EUR/JPY','EUR/JPY'],\n",
    "  ['USD/GBP','USD/GBP']\n",
    "] "
   ]
  },
  {
   "cell_type": "code",
   "execution_count": 3,
   "id": "5dab38c5",
   "metadata": {
    "scrolled": true
   },
   "outputs": [
    {
     "data": {
      "text/plain": [
       "[['USD/KRW', 'USD/KRW'],\n",
       " ['USD/EUR', 'USD/EUR'],\n",
       " ['USD/JPY', 'USD/JPY'],\n",
       " ['EUR/JPY', 'EUR/JPY'],\n",
       " ['USD/GBP', 'USD/GBP']]"
      ]
     },
     "execution_count": 3,
     "metadata": {},
     "output_type": "execute_result"
    }
   ],
   "source": [
    "exchange_list"
   ]
  },
  {
   "cell_type": "code",
   "execution_count": 4,
   "id": "d7493002",
   "metadata": {},
   "outputs": [
    {
     "data": {
      "text/plain": [
       "Date\n",
       "2023-06-22    1288.380005\n",
       "2023-06-23    1298.209961\n",
       "2023-06-26    1307.670044\n",
       "2023-06-27    1302.660034\n",
       "2023-06-28    1301.130005\n",
       "Name: Close, dtype: float64"
      ]
     },
     "execution_count": 4,
     "metadata": {},
     "output_type": "execute_result"
    }
   ],
   "source": [
    "usdkrw = fdr.DataReader('USD/KRW', '2020')\n",
    "usdkrw['Close'].tail()"
   ]
  },
  {
   "cell_type": "code",
   "execution_count": 6,
   "id": "bbf50751",
   "metadata": {},
   "outputs": [
    {
     "data": {
      "text/plain": [
       "Date\n",
       "2023-06-22    0.90970\n",
       "2023-06-23    0.91250\n",
       "2023-06-26    0.91687\n",
       "2023-06-27    0.91655\n",
       "2023-06-28    0.91250\n",
       "Name: Close, dtype: float64"
      ]
     },
     "execution_count": 6,
     "metadata": {},
     "output_type": "execute_result"
    }
   ],
   "source": [
    "usdeur = fdr.DataReader('USD/EUR', '2020')\n",
    "usdeur['Close'].tail()"
   ]
  },
  {
   "cell_type": "code",
   "execution_count": 7,
   "id": "8da74085",
   "metadata": {},
   "outputs": [
    {
     "data": {
      "text/plain": [
       "Date\n",
       "2023-06-22    141.688004\n",
       "2023-06-23    143.029999\n",
       "2023-06-26    143.541000\n",
       "2023-06-27    143.460007\n",
       "2023-06-28    143.843002\n",
       "Name: Close, dtype: float64"
      ]
     },
     "execution_count": 7,
     "metadata": {},
     "output_type": "execute_result"
    }
   ],
   "source": [
    "usdjpy = fdr.DataReader('USD/JPY', '2020')\n",
    "usdjpy['Close'].tail()"
   ]
  },
  {
   "cell_type": "code",
   "execution_count": 8,
   "id": "8e39c471",
   "metadata": {},
   "outputs": [
    {
     "data": {
      "text/plain": [
       "Date\n",
       "2023-06-22    155.737000\n",
       "2023-06-23    156.699997\n",
       "2023-06-26    156.548004\n",
       "2023-06-27    156.511993\n",
       "2023-06-28    157.576004\n",
       "Name: Close, dtype: float64"
      ]
     },
     "execution_count": 8,
     "metadata": {},
     "output_type": "execute_result"
    }
   ],
   "source": [
    "eurjpy = fdr.DataReader('EUR/JPY', '2020')\n",
    "eurjpy['Close'].tail()"
   ]
  },
  {
   "cell_type": "code",
   "execution_count": 5,
   "id": "661df909",
   "metadata": {},
   "outputs": [
    {
     "data": {
      "text/plain": [
       "Date\n",
       "2023-06-22    0.78296\n",
       "2023-06-23    0.78449\n",
       "2023-06-26    0.78557\n",
       "2023-06-27    0.78666\n",
       "2023-06-28    0.78462\n",
       "Name: Close, dtype: float64"
      ]
     },
     "execution_count": 5,
     "metadata": {},
     "output_type": "execute_result"
    }
   ],
   "source": [
    "usdgbp = fdr.DataReader('USD/GBP', '2020')\n",
    "usdgbp['Close'].tail()"
   ]
  },
  {
   "cell_type": "code",
   "execution_count": 15,
   "id": "83607159",
   "metadata": {},
   "outputs": [
    {
     "data": {
      "text/plain": [
       "5"
      ]
     },
     "execution_count": 15,
     "metadata": {},
     "output_type": "execute_result"
    }
   ],
   "source": [
    "import pandas as pd\n",
    "\n",
    "ex_list = [fdr.DataReader(code, '2020-01-01')['Close']for name, code in exchange_list]\n",
    "len(ex_list)"
   ]
  },
  {
   "cell_type": "code",
   "execution_count": 16,
   "id": "98be1b41",
   "metadata": {
    "scrolled": false
   },
   "outputs": [
    {
     "data": {
      "text/plain": [
       "[Date\n",
       " 2020-01-01    1153.750000\n",
       " 2020-01-02    1153.969971\n",
       " 2020-01-03    1157.150024\n",
       " 2020-01-06    1165.849976\n",
       " 2020-01-07    1167.420044\n",
       "                  ...     \n",
       " 2023-06-22    1288.380005\n",
       " 2023-06-23    1298.209961\n",
       " 2023-06-26    1307.670044\n",
       " 2023-06-27    1302.660034\n",
       " 2023-06-28    1300.939941\n",
       " Name: Close, Length: 911, dtype: float64,\n",
       " Date\n",
       " 2020-01-01    0.891200\n",
       " 2020-01-02    0.891200\n",
       " 2020-01-03    0.895140\n",
       " 2020-01-06    0.895900\n",
       " 2020-01-07    0.893017\n",
       "                 ...   \n",
       " 2023-06-22    0.909700\n",
       " 2023-06-23    0.912500\n",
       " 2023-06-26    0.916870\n",
       " 2023-06-27    0.916550\n",
       " 2023-06-28    0.912500\n",
       " Name: Close, Length: 911, dtype: float64,\n",
       " Date\n",
       " 2020-01-01    108.681000\n",
       " 2020-01-02    108.712997\n",
       " 2020-01-03    108.542999\n",
       " 2020-01-06    107.963997\n",
       " 2020-01-07    108.405998\n",
       "                  ...    \n",
       " 2023-06-22    141.688004\n",
       " 2023-06-23    143.029999\n",
       " 2023-06-26    143.541000\n",
       " 2023-06-27    143.460007\n",
       " 2023-06-28    143.847000\n",
       " Name: Close, Length: 911, dtype: float64,\n",
       " Date\n",
       " 2020-01-01    121.970001\n",
       " 2020-01-02    121.973000\n",
       " 2020-01-03    121.245003\n",
       " 2020-01-06    120.500999\n",
       " 2020-01-07    121.360001\n",
       "                  ...    \n",
       " 2023-06-22    155.737000\n",
       " 2023-06-23    156.699997\n",
       " 2023-06-26    156.548004\n",
       " 2023-06-27    156.511993\n",
       " 2023-06-28    157.587006\n",
       " Name: Close, Length: 911, dtype: float64,\n",
       " Date\n",
       " 2020-01-01    0.75400\n",
       " 2020-01-02    0.75470\n",
       " 2020-01-03    0.76030\n",
       " 2020-01-06    0.76452\n",
       " 2020-01-07    0.75930\n",
       "                ...   \n",
       " 2023-06-22    0.78296\n",
       " 2023-06-23    0.78449\n",
       " 2023-06-26    0.78557\n",
       " 2023-06-27    0.78666\n",
       " 2023-06-28    0.78464\n",
       " Name: Close, Length: 911, dtype: float64]"
      ]
     },
     "execution_count": 16,
     "metadata": {},
     "output_type": "execute_result"
    }
   ],
   "source": [
    "ex_list"
   ]
  },
  {
   "cell_type": "code",
   "execution_count": 46,
   "id": "5982ea95",
   "metadata": {
    "scrolled": true
   },
   "outputs": [
    {
     "data": {
      "text/html": [
       "<div>\n",
       "<style scoped>\n",
       "    .dataframe tbody tr th:only-of-type {\n",
       "        vertical-align: middle;\n",
       "    }\n",
       "\n",
       "    .dataframe tbody tr th {\n",
       "        vertical-align: top;\n",
       "    }\n",
       "\n",
       "    .dataframe thead th {\n",
       "        text-align: right;\n",
       "    }\n",
       "</style>\n",
       "<table border=\"1\" class=\"dataframe\">\n",
       "  <thead>\n",
       "    <tr style=\"text-align: right;\">\n",
       "      <th></th>\n",
       "      <th>USD/KRW</th>\n",
       "      <th>USD/EUR</th>\n",
       "      <th>USD/JPY</th>\n",
       "      <th>EUR/JPY</th>\n",
       "      <th>USD/GBP</th>\n",
       "    </tr>\n",
       "    <tr>\n",
       "      <th>Date</th>\n",
       "      <th></th>\n",
       "      <th></th>\n",
       "      <th></th>\n",
       "      <th></th>\n",
       "      <th></th>\n",
       "    </tr>\n",
       "  </thead>\n",
       "  <tbody>\n",
       "    <tr>\n",
       "      <th>2023-06-01</th>\n",
       "      <td>1321.739990</td>\n",
       "      <td>0.93500</td>\n",
       "      <td>139.126999</td>\n",
       "      <td>148.763000</td>\n",
       "      <td>0.80341</td>\n",
       "    </tr>\n",
       "    <tr>\n",
       "      <th>2023-06-02</th>\n",
       "      <td>1312.849976</td>\n",
       "      <td>0.92930</td>\n",
       "      <td>138.748001</td>\n",
       "      <td>149.294006</td>\n",
       "      <td>0.79834</td>\n",
       "    </tr>\n",
       "    <tr>\n",
       "      <th>2023-06-05</th>\n",
       "      <td>1305.140015</td>\n",
       "      <td>0.93470</td>\n",
       "      <td>140.207001</td>\n",
       "      <td>149.979004</td>\n",
       "      <td>0.80449</td>\n",
       "    </tr>\n",
       "    <tr>\n",
       "      <th>2023-06-06</th>\n",
       "      <td>1299.790039</td>\n",
       "      <td>0.93355</td>\n",
       "      <td>139.382996</td>\n",
       "      <td>149.294006</td>\n",
       "      <td>0.80430</td>\n",
       "    </tr>\n",
       "    <tr>\n",
       "      <th>2023-06-07</th>\n",
       "      <td>1299.199951</td>\n",
       "      <td>0.93475</td>\n",
       "      <td>139.526993</td>\n",
       "      <td>149.255997</td>\n",
       "      <td>0.80460</td>\n",
       "    </tr>\n",
       "    <tr>\n",
       "      <th>2023-06-08</th>\n",
       "      <td>1308.339966</td>\n",
       "      <td>0.93393</td>\n",
       "      <td>139.899002</td>\n",
       "      <td>149.787994</td>\n",
       "      <td>0.80348</td>\n",
       "    </tr>\n",
       "    <tr>\n",
       "      <th>2023-06-09</th>\n",
       "      <td>1296.329956</td>\n",
       "      <td>0.92741</td>\n",
       "      <td>138.863007</td>\n",
       "      <td>149.720001</td>\n",
       "      <td>0.79621</td>\n",
       "    </tr>\n",
       "    <tr>\n",
       "      <th>2023-06-12</th>\n",
       "      <td>1286.689941</td>\n",
       "      <td>0.93015</td>\n",
       "      <td>139.371002</td>\n",
       "      <td>149.820007</td>\n",
       "      <td>0.79485</td>\n",
       "    </tr>\n",
       "    <tr>\n",
       "      <th>2023-06-13</th>\n",
       "      <td>1284.579956</td>\n",
       "      <td>0.92911</td>\n",
       "      <td>139.460007</td>\n",
       "      <td>150.091003</td>\n",
       "      <td>0.79902</td>\n",
       "    </tr>\n",
       "    <tr>\n",
       "      <th>2023-06-14</th>\n",
       "      <td>1267.619995</td>\n",
       "      <td>0.92684</td>\n",
       "      <td>140.177002</td>\n",
       "      <td>151.231995</td>\n",
       "      <td>0.79322</td>\n",
       "    </tr>\n",
       "    <tr>\n",
       "      <th>2023-06-15</th>\n",
       "      <td>1273.989990</td>\n",
       "      <td>0.92225</td>\n",
       "      <td>139.977005</td>\n",
       "      <td>151.764999</td>\n",
       "      <td>0.78921</td>\n",
       "    </tr>\n",
       "    <tr>\n",
       "      <th>2023-06-16</th>\n",
       "      <td>1270.050049</td>\n",
       "      <td>0.91358</td>\n",
       "      <td>140.268005</td>\n",
       "      <td>153.526993</td>\n",
       "      <td>0.78212</td>\n",
       "    </tr>\n",
       "    <tr>\n",
       "      <th>2023-06-19</th>\n",
       "      <td>1276.310059</td>\n",
       "      <td>0.91390</td>\n",
       "      <td>141.867004</td>\n",
       "      <td>155.179993</td>\n",
       "      <td>0.77940</td>\n",
       "    </tr>\n",
       "    <tr>\n",
       "      <th>2023-06-20</th>\n",
       "      <td>1283.239990</td>\n",
       "      <td>0.91539</td>\n",
       "      <td>141.899002</td>\n",
       "      <td>155.007004</td>\n",
       "      <td>0.78157</td>\n",
       "    </tr>\n",
       "    <tr>\n",
       "      <th>2023-06-21</th>\n",
       "      <td>1287.540039</td>\n",
       "      <td>0.91572</td>\n",
       "      <td>141.335007</td>\n",
       "      <td>154.335999</td>\n",
       "      <td>0.78337</td>\n",
       "    </tr>\n",
       "    <tr>\n",
       "      <th>2023-06-22</th>\n",
       "      <td>1288.380005</td>\n",
       "      <td>0.90970</td>\n",
       "      <td>141.688004</td>\n",
       "      <td>155.737000</td>\n",
       "      <td>0.78296</td>\n",
       "    </tr>\n",
       "    <tr>\n",
       "      <th>2023-06-23</th>\n",
       "      <td>1298.209961</td>\n",
       "      <td>0.91250</td>\n",
       "      <td>143.029999</td>\n",
       "      <td>156.699997</td>\n",
       "      <td>0.78449</td>\n",
       "    </tr>\n",
       "    <tr>\n",
       "      <th>2023-06-26</th>\n",
       "      <td>1307.670044</td>\n",
       "      <td>0.91687</td>\n",
       "      <td>143.541000</td>\n",
       "      <td>156.548004</td>\n",
       "      <td>0.78557</td>\n",
       "    </tr>\n",
       "    <tr>\n",
       "      <th>2023-06-27</th>\n",
       "      <td>1302.660034</td>\n",
       "      <td>0.91655</td>\n",
       "      <td>143.460007</td>\n",
       "      <td>156.511993</td>\n",
       "      <td>0.78666</td>\n",
       "    </tr>\n",
       "    <tr>\n",
       "      <th>2023-06-28</th>\n",
       "      <td>1300.939941</td>\n",
       "      <td>0.91250</td>\n",
       "      <td>143.847000</td>\n",
       "      <td>157.587006</td>\n",
       "      <td>0.78464</td>\n",
       "    </tr>\n",
       "  </tbody>\n",
       "</table>\n",
       "</div>"
      ],
      "text/plain": [
       "                USD/KRW  USD/EUR     USD/JPY     EUR/JPY  USD/GBP\n",
       "Date                                                             \n",
       "2023-06-01  1321.739990  0.93500  139.126999  148.763000  0.80341\n",
       "2023-06-02  1312.849976  0.92930  138.748001  149.294006  0.79834\n",
       "2023-06-05  1305.140015  0.93470  140.207001  149.979004  0.80449\n",
       "2023-06-06  1299.790039  0.93355  139.382996  149.294006  0.80430\n",
       "2023-06-07  1299.199951  0.93475  139.526993  149.255997  0.80460\n",
       "2023-06-08  1308.339966  0.93393  139.899002  149.787994  0.80348\n",
       "2023-06-09  1296.329956  0.92741  138.863007  149.720001  0.79621\n",
       "2023-06-12  1286.689941  0.93015  139.371002  149.820007  0.79485\n",
       "2023-06-13  1284.579956  0.92911  139.460007  150.091003  0.79902\n",
       "2023-06-14  1267.619995  0.92684  140.177002  151.231995  0.79322\n",
       "2023-06-15  1273.989990  0.92225  139.977005  151.764999  0.78921\n",
       "2023-06-16  1270.050049  0.91358  140.268005  153.526993  0.78212\n",
       "2023-06-19  1276.310059  0.91390  141.867004  155.179993  0.77940\n",
       "2023-06-20  1283.239990  0.91539  141.899002  155.007004  0.78157\n",
       "2023-06-21  1287.540039  0.91572  141.335007  154.335999  0.78337\n",
       "2023-06-22  1288.380005  0.90970  141.688004  155.737000  0.78296\n",
       "2023-06-23  1298.209961  0.91250  143.029999  156.699997  0.78449\n",
       "2023-06-26  1307.670044  0.91687  143.541000  156.548004  0.78557\n",
       "2023-06-27  1302.660034  0.91655  143.460007  156.511993  0.78666\n",
       "2023-06-28  1300.939941  0.91250  143.847000  157.587006  0.78464"
      ]
     },
     "execution_count": 46,
     "metadata": {},
     "output_type": "execute_result"
    }
   ],
   "source": [
    "# pd.concat()로 합치기\n",
    "\n",
    "df = pd.concat(ex_list, axis=1)\n",
    "df.columns = [name for name, code in exchange_list] \n",
    "df.tail(20)"
   ]
  },
  {
   "cell_type": "code",
   "execution_count": 94,
   "id": "26961d83",
   "metadata": {},
   "outputs": [
    {
     "data": {
      "text/plain": [
       "(911,)"
      ]
     },
     "execution_count": 94,
     "metadata": {},
     "output_type": "execute_result"
    }
   ],
   "source": [
    "df['USD/GBP'].shape"
   ]
  },
  {
   "cell_type": "markdown",
   "id": "4ae86ef3",
   "metadata": {},
   "source": [
    "## 데이터 시각화"
   ]
  },
  {
   "cell_type": "code",
   "execution_count": 40,
   "id": "87fae8cb",
   "metadata": {
    "scrolled": false
   },
   "outputs": [
    {
     "data": {
      "text/plain": [
       "<Axes: xlabel='Date'>"
      ]
     },
     "execution_count": 40,
     "metadata": {},
     "output_type": "execute_result"
    },
    {
     "data": {
      "image/png": "[encoded data removed]",
      "text/plain": [
       "<Figure size 1200x600 with 1 Axes>"
      ]
     },
     "metadata": {},
     "output_type": "display_data"
    }
   ],
   "source": [
    "df.plot()"
   ]
  },
  {
   "cell_type": "markdown",
   "id": "b48fe9e8",
   "metadata": {},
   "source": [
    "## y 보조축 만들기"
   ]
  },
  {
   "cell_type": "code",
   "execution_count": null,
   "id": "387eadb3",
   "metadata": {},
   "outputs": [],
   "source": [
    "df[['LG화학', '삼성전자']].plot(secondary_y=['LG화학'])"
   ]
  },
  {
   "cell_type": "markdown",
   "id": "923bb1bf",
   "metadata": {},
   "source": [
    "## 비교를 위해 데이터 정규화\n",
    "- 전체 데이터를 첫번째 row로 나누고 -1.0"
   ]
  },
  {
   "cell_type": "code",
   "execution_count": null,
   "id": "48b7c026",
   "metadata": {},
   "outputs": [],
   "source": [
    "df2 = df[['LG화학', '삼성전자']]\n",
    "\n",
    "df_plot = df2 / df2.iloc[0] - 1.0\n",
    "df_plot.plot()"
   ]
  },
  {
   "cell_type": "markdown",
   "id": "7a003482",
   "metadata": {},
   "source": [
    "## 여러 종목 정규화 및 비교 차트"
   ]
  },
  {
   "cell_type": "code",
   "execution_count": 41,
   "id": "ee8b49f7",
   "metadata": {},
   "outputs": [
    {
     "data": {
      "text/plain": [
       "<Axes: xlabel='Date'>"
      ]
     },
     "execution_count": 41,
     "metadata": {},
     "output_type": "execute_result"
    },
    {
     "data": {
      "image/png": "[encoded data removed]",
      "text/plain": [
       "<Figure size 1200x600 with 1 Axes>"
      ]
     },
     "metadata": {},
     "output_type": "display_data"
    }
   ],
   "source": [
    "df_norm = df / df.iloc[0] - 1\n",
    "df_norm.plot()"
   ]
  },
  {
   "cell_type": "code",
   "execution_count": 42,
   "id": "bb6ba12f",
   "metadata": {
    "scrolled": true
   },
   "outputs": [
    {
     "data": {
      "text/plain": [
       "USD/JPY    0.323571\n",
       "EUR/JPY    0.292014\n",
       "USD/KRW    0.127575\n",
       "USD/GBP    0.040637\n",
       "USD/EUR    0.023900\n",
       "Name: 2023-06-28 00:00:00, dtype: float64"
      ]
     },
     "execution_count": 42,
     "metadata": {},
     "output_type": "execute_result"
    }
   ],
   "source": [
    "df_norm.iloc[-1].sort_values(ascending=False)"
   ]
  },
  {
   "cell_type": "markdown",
   "id": "f21a0ed0",
   "metadata": {},
   "source": [
    "## 회귀분석 하기\n",
    "- 상관관계를 분석해서 업종 지수에 대한 비교 및 특정 종목이 따라가지 못 하는 경우 내.외부 요인 판단 가능"
   ]
  },
  {
   "cell_type": "code",
   "execution_count": 67,
   "id": "4bd1028a",
   "metadata": {},
   "outputs": [],
   "source": [
    "from sklearn.linear_model import LinearRegression #sklearn 싸이킷런에서 회귀모델을 가져오겠다.\n",
    "import numpy as np"
   ]
  },
  {
   "cell_type": "code",
   "execution_count": 104,
   "id": "96e382ab",
   "metadata": {
    "scrolled": true
   },
   "outputs": [
    {
     "data": {
      "text/plain": [
       "(Date\n",
       " 2020-01-01    108.681000\n",
       " 2020-01-02    108.712997\n",
       " 2020-01-03    108.542999\n",
       " 2020-01-06    107.963997\n",
       " 2020-01-07    108.405998\n",
       "                  ...    \n",
       " 2023-06-22    141.688004\n",
       " 2023-06-23    143.029999\n",
       " 2023-06-26    143.541000\n",
       " 2023-06-27    143.460007\n",
       " 2023-06-28    143.847000\n",
       " Name: USD/JPY, Length: 911, dtype: float64,\n",
       " Date\n",
       " 2020-01-01    0.75400\n",
       " 2020-01-02    0.75470\n",
       " 2020-01-03    0.76030\n",
       " 2020-01-06    0.76452\n",
       " 2020-01-07    0.75930\n",
       "                ...   \n",
       " 2023-06-22    0.78296\n",
       " 2023-06-23    0.78449\n",
       " 2023-06-26    0.78557\n",
       " 2023-06-27    0.78666\n",
       " 2023-06-28    0.78464\n",
       " Name: USD/GBP, Length: 911, dtype: float64)"
      ]
     },
     "execution_count": 104,
     "metadata": {},
     "output_type": "execute_result"
    }
   ],
   "source": [
    "X = df[df.columns[2]] \n",
    "y = df[df.columns[-1]]\n",
    "X,y"
   ]
  },
  {
   "cell_type": "code",
   "execution_count": 111,
   "id": "212670d6",
   "metadata": {
    "scrolled": true
   },
   "outputs": [
    {
     "data": {
      "text/plain": [
       "(Date\n",
       " 2020-01-01    108.681000\n",
       " 2020-01-02    108.712997\n",
       " 2020-01-03    108.542999\n",
       " 2020-01-06    107.963997\n",
       " 2020-01-07    108.405998\n",
       "                  ...    \n",
       " 2023-06-22    141.688004\n",
       " 2023-06-23    143.029999\n",
       " 2023-06-26    143.541000\n",
       " 2023-06-27    143.460007\n",
       " 2023-06-28    143.847000\n",
       " Name: USD/JPY, Length: 911, dtype: float64,\n",
       " Date\n",
       " 2020-01-01    0.75400\n",
       " 2020-01-02    0.75470\n",
       " 2020-01-03    0.76030\n",
       " 2020-01-06    0.76452\n",
       " 2020-01-07    0.75930\n",
       "                ...   \n",
       " 2023-06-22    0.78296\n",
       " 2023-06-23    0.78449\n",
       " 2023-06-26    0.78557\n",
       " 2023-06-27    0.78666\n",
       " 2023-06-28    0.78464\n",
       " Name: USD/GBP, Length: 911, dtype: float64)"
      ]
     },
     "execution_count": 111,
     "metadata": {},
     "output_type": "execute_result"
    }
   ],
   "source": [
    "X,y"
   ]
  },
  {
   "cell_type": "code",
   "execution_count": 113,
   "id": "d16b45a2",
   "metadata": {},
   "outputs": [
    {
     "data": {
      "text/plain": [
       "(array([[108.681   ],\n",
       "        [108.712997],\n",
       "        [108.542999],\n",
       "        [107.963997],\n",
       "        [108.405998],\n",
       "        [108.015999],\n",
       "        [109.030998],\n",
       "        [109.507004],\n",
       "        [109.566002],\n",
       "        [109.991997],\n",
       "        [109.853996],\n",
       "        [109.883003],\n",
       "        [110.175003],\n",
       "        [110.18    ],\n",
       "        [110.172997],\n",
       "        [109.907997],\n",
       "        [109.727997],\n",
       "        [109.552002],\n",
       "        [108.802002],\n",
       "        [108.919998],\n",
       "        [109.132004],\n",
       "        [108.987   ],\n",
       "        [108.876999],\n",
       "        [108.372002],\n",
       "        [108.612   ],\n",
       "        [109.446999],\n",
       "        [109.814003],\n",
       "        [109.968002],\n",
       "        [109.644997],\n",
       "        [109.765999],\n",
       "        [109.843002],\n",
       "        [109.846001],\n",
       "        [109.758003],\n",
       "        [109.791   ],\n",
       "        [109.830002],\n",
       "        [109.918999],\n",
       "        [111.209999],\n",
       "        [111.954002],\n",
       "        [111.556999],\n",
       "        [110.857002],\n",
       "        [110.286003],\n",
       "        [110.362999],\n",
       "        [109.660004],\n",
       "        [107.696999],\n",
       "        [108.487   ],\n",
       "        [107.037003],\n",
       "        [107.677002],\n",
       "        [106.248001],\n",
       "        [103.938004],\n",
       "        [103.112   ],\n",
       "        [105.026001],\n",
       "        [104.550003],\n",
       "        [104.610001],\n",
       "        [106.688004],\n",
       "        [106.175003],\n",
       "        [107.376999],\n",
       "        [108.360001],\n",
       "        [111.291   ],\n",
       "        [110.461998],\n",
       "        [110.827003],\n",
       "        [111.120003],\n",
       "        [110.875999],\n",
       "        [109.109001],\n",
       "        [107.413002],\n",
       "        [108.035004],\n",
       "        [107.508003],\n",
       "        [107.257004],\n",
       "        [108.000999],\n",
       "        [108.693001],\n",
       "        [109.114998],\n",
       "        [108.651001],\n",
       "        [108.921997],\n",
       "        [108.560997],\n",
       "        [108.335999],\n",
       "        [107.623001],\n",
       "        [107.103996],\n",
       "        [107.609001],\n",
       "        [107.945   ],\n",
       "        [107.669998],\n",
       "        [107.668999],\n",
       "        [107.721001],\n",
       "        [107.813004],\n",
       "        [107.667   ],\n",
       "        [107.495003],\n",
       "        [107.282997],\n",
       "        [106.740997],\n",
       "        [106.610001],\n",
       "        [107.285004],\n",
       "        [106.737999],\n",
       "        [106.696999],\n",
       "        [106.452003],\n",
       "        [106.191002],\n",
       "        [106.359001],\n",
       "        [106.918999],\n",
       "        [107.566002],\n",
       "        [107.138   ],\n",
       "        [106.932999],\n",
       "        [107.364998],\n",
       "        [107.208   ],\n",
       "        [107.380997],\n",
       "        [107.809998],\n",
       "        [107.591003],\n",
       "        [107.630997],\n",
       "        [107.735001],\n",
       "        [107.686996],\n",
       "        [107.490997],\n",
       "        [107.797997],\n",
       "        [107.642998],\n",
       "        [107.708   ],\n",
       "        [107.547997],\n",
       "        [108.808998],\n",
       "        [108.999001],\n",
       "        [109.150002],\n",
       "        [109.634003],\n",
       "        [108.408997],\n",
       "        [107.796997],\n",
       "        [106.981003],\n",
       "        [106.803001],\n",
       "        [107.310997],\n",
       "        [107.463997],\n",
       "        [107.410004],\n",
       "        [106.893997],\n",
       "        [107.005997],\n",
       "        [106.831001],\n",
       "        [106.903   ],\n",
       "        [106.431999],\n",
       "        [107.043999],\n",
       "        [107.154999],\n",
       "        [107.218002],\n",
       "        [107.589996],\n",
       "        [107.988998],\n",
       "        [107.365997],\n",
       "        [107.497002],\n",
       "        [107.579002],\n",
       "        [107.359001],\n",
       "        [107.578003],\n",
       "        [107.282997],\n",
       "        [107.236   ],\n",
       "        [106.910004],\n",
       "        [107.276001],\n",
       "        [107.245003],\n",
       "        [106.917   ],\n",
       "        [107.278   ],\n",
       "        [107.089996],\n",
       "        [107.195999],\n",
       "        [106.832001],\n",
       "        [107.175003],\n",
       "        [106.837997],\n",
       "        [105.992996],\n",
       "        [105.261002],\n",
       "        [105.107002],\n",
       "        [105.031998],\n",
       "        [104.682999],\n",
       "        [105.865997],\n",
       "        [106.029999],\n",
       "        [105.613998],\n",
       "        [105.553001],\n",
       "        [105.581001],\n",
       "        [105.849998],\n",
       "        [105.991997],\n",
       "        [106.521004],\n",
       "        [106.821999],\n",
       "        [106.986   ],\n",
       "        [106.554001],\n",
       "        [105.995003],\n",
       "        [105.223999],\n",
       "        [106.079002],\n",
       "        [105.665001],\n",
       "        [105.876999],\n",
       "        [105.992996],\n",
       "        [106.404999],\n",
       "        [105.856003],\n",
       "        [106.637001],\n",
       "        [105.535004],\n",
       "        [106.003998],\n",
       "        [105.896004],\n",
       "        [106.208   ],\n",
       "        [106.085999],\n",
       "        [106.310997],\n",
       "        [106.305   ],\n",
       "        [105.968002],\n",
       "        [106.231003],\n",
       "        [106.142998],\n",
       "        [106.144997],\n",
       "        [105.714996],\n",
       "        [105.380997],\n",
       "        [105.061996],\n",
       "        [104.697998],\n",
       "        [104.537003],\n",
       "        [104.690002],\n",
       "        [105.033997],\n",
       "        [105.304001],\n",
       "        [105.434998],\n",
       "        [105.573997],\n",
       "        [105.432999],\n",
       "        [105.664001],\n",
       "        [105.450996],\n",
       "        [105.542999],\n",
       "        [105.510002],\n",
       "        [105.707001],\n",
       "        [105.639999],\n",
       "        [105.964996],\n",
       "        [106.017998],\n",
       "        [105.632004],\n",
       "        [105.338997],\n",
       "        [105.470001],\n",
       "        [105.139   ],\n",
       "        [105.360001],\n",
       "        [105.427002],\n",
       "        [105.470001],\n",
       "        [105.476997],\n",
       "        [104.676003],\n",
       "        [104.920998],\n",
       "        [104.682999],\n",
       "        [104.832001],\n",
       "        [104.544998],\n",
       "        [104.315002],\n",
       "        [104.554001],\n",
       "        [104.580002],\n",
       "        [104.724998],\n",
       "        [104.545998],\n",
       "        [104.438004],\n",
       "        [103.602997],\n",
       "        [103.252998],\n",
       "        [105.137001],\n",
       "        [105.260002],\n",
       "        [105.415001],\n",
       "        [105.089996],\n",
       "        [104.676003],\n",
       "        [104.541   ],\n",
       "        [104.181   ],\n",
       "        [103.893997],\n",
       "        [103.824997],\n",
       "        [103.817001],\n",
       "        [104.525002],\n",
       "        [104.513   ],\n",
       "        [104.400002],\n",
       "        [104.241997],\n",
       "        [104.082001],\n",
       "        [104.299004],\n",
       "        [104.308998],\n",
       "        [104.458   ],\n",
       "        [103.822998],\n",
       "        [104.197998],\n",
       "        [103.998001],\n",
       "        [104.135002],\n",
       "        [104.272003],\n",
       "        [104.181999],\n",
       "        [103.939003],\n",
       "        [104.010002],\n",
       "        [103.634003],\n",
       "        [103.474998],\n",
       "        [103.130997],\n",
       "        [103.457001],\n",
       "        [103.339996],\n",
       "        [103.533997],\n",
       "        [103.552002],\n",
       "        [103.653   ],\n",
       "        [103.532997],\n",
       "        [103.689003],\n",
       "        [103.558998],\n",
       "        [103.121002],\n",
       "        [103.225998],\n",
       "        [103.238998],\n",
       "        [103.125   ],\n",
       "        [102.678001],\n",
       "        [103.024002],\n",
       "        [103.790001],\n",
       "        [104.091003],\n",
       "        [104.127998],\n",
       "        [103.751999],\n",
       "        [103.836998],\n",
       "        [103.828003],\n",
       "        [103.907997],\n",
       "        [103.703003],\n",
       "        [103.897003],\n",
       "        [103.555   ],\n",
       "        [103.505997],\n",
       "        [103.777   ],\n",
       "        [103.760002],\n",
       "        [103.602997],\n",
       "        [104.142998],\n",
       "        [104.291   ],\n",
       "        [104.685997],\n",
       "        [104.880997],\n",
       "        [105.028   ],\n",
       "        [104.995003],\n",
       "        [105.571999],\n",
       "        [105.400002],\n",
       "        [105.209999],\n",
       "        [104.574997],\n",
       "        [104.614998],\n",
       "        [104.740997],\n",
       "        [105.058998],\n",
       "        [105.387001],\n",
       "        [106.102997],\n",
       "        [105.861   ],\n",
       "        [105.652   ],\n",
       "        [105.514   ],\n",
       "        [104.984001],\n",
       "        [105.282997],\n",
       "        [105.944   ],\n",
       "        [106.378998],\n",
       "        [106.502998],\n",
       "        [106.850998],\n",
       "        [106.758003],\n",
       "        [107.057999],\n",
       "        [107.955002],\n",
       "        [108.418999],\n",
       "        [108.939003],\n",
       "        [108.577003],\n",
       "        [108.431999],\n",
       "        [108.555   ],\n",
       "        [109.116997],\n",
       "        [109.134003],\n",
       "        [109.028999],\n",
       "        [108.890999],\n",
       "        [108.931   ],\n",
       "        [108.871002],\n",
       "        [108.776001],\n",
       "        [108.519997],\n",
       "        [108.790001],\n",
       "        [109.179001],\n",
       "        [109.791   ],\n",
       "        [109.835999],\n",
       "        [110.305   ],\n",
       "        [110.75    ],\n",
       "        [110.612999],\n",
       "        [110.677002],\n",
       "        [110.193001],\n",
       "        [109.792999],\n",
       "        [109.851997],\n",
       "        [109.330002],\n",
       "        [109.694   ],\n",
       "        [109.374001],\n",
       "        [108.924004],\n",
       "        [108.893997],\n",
       "        [108.689003],\n",
       "        [108.719002],\n",
       "        [108.098   ],\n",
       "        [108.133003],\n",
       "        [108.039001],\n",
       "        [107.977997],\n",
       "        [107.874001],\n",
       "        [108.202003],\n",
       "        [108.75    ],\n",
       "        [108.504997],\n",
       "        [108.903999],\n",
       "        [109.282997],\n",
       "        [109.086998],\n",
       "        [109.329002],\n",
       "        [109.219002],\n",
       "        [109.050003],\n",
       "        [108.571999],\n",
       "        [108.844002],\n",
       "        [108.714996],\n",
       "        [109.664001],\n",
       "        [109.515999],\n",
       "        [109.412003],\n",
       "        [109.241997],\n",
       "        [108.867996],\n",
       "        [109.273003],\n",
       "        [108.860001],\n",
       "        [108.918999],\n",
       "        [108.850998],\n",
       "        [108.802002],\n",
       "        [109.169998],\n",
       "        [109.808998],\n",
       "        [109.906998],\n",
       "        [109.492996],\n",
       "        [109.492996],\n",
       "        [109.595001],\n",
       "        [110.265999],\n",
       "        [109.616997],\n",
       "        [109.274002],\n",
       "        [109.469002],\n",
       "        [109.610001],\n",
       "        [109.408997],\n",
       "        [109.709   ],\n",
       "        [110.041   ],\n",
       "        [110.084   ],\n",
       "        [110.769997],\n",
       "        [110.324997],\n",
       "        [110.200996],\n",
       "        [110.374001],\n",
       "        [110.653999],\n",
       "        [111.012001],\n",
       "        [110.920998],\n",
       "        [110.821999],\n",
       "        [110.602997],\n",
       "        [110.535004],\n",
       "        [111.124001],\n",
       "        [111.571999],\n",
       "        [111.135002],\n",
       "        [110.916   ],\n",
       "        [110.601997],\n",
       "        [110.635002],\n",
       "        [109.801003],\n",
       "        [110.214996],\n",
       "        [110.324997],\n",
       "        [110.595001],\n",
       "        [109.984001],\n",
       "        [109.778   ],\n",
       "        [109.874001],\n",
       "        [109.533997],\n",
       "        [109.919998],\n",
       "        [110.254997],\n",
       "        [110.139999],\n",
       "        [110.543999],\n",
       "        [110.302002],\n",
       "        [109.806   ],\n",
       "        [109.890999],\n",
       "        [109.408997],\n",
       "        [109.706001],\n",
       "        [109.268997],\n",
       "        [108.990997],\n",
       "        [109.528999],\n",
       "        [109.751999],\n",
       "        [110.259003],\n",
       "        [110.306   ],\n",
       "        [110.598   ],\n",
       "        [110.374001],\n",
       "        [110.403   ],\n",
       "        [109.624001],\n",
       "        [109.296997],\n",
       "        [109.537003],\n",
       "        [109.842003],\n",
       "        [109.767998],\n",
       "        [109.839996],\n",
       "        [109.678001],\n",
       "        [109.730003],\n",
       "        [109.975998],\n",
       "        [110.047997],\n",
       "        [109.864998],\n",
       "        [109.944   ],\n",
       "        [110.056   ],\n",
       "        [110.096001],\n",
       "        [109.945   ],\n",
       "        [109.764   ],\n",
       "        [109.82    ],\n",
       "        [110.295998],\n",
       "        [110.218002],\n",
       "        [109.780998],\n",
       "        [109.915001],\n",
       "        [109.994003],\n",
       "        [109.719002],\n",
       "        [109.383003],\n",
       "        [109.698997],\n",
       "        [109.971001],\n",
       "        [109.436996],\n",
       "        [109.149002],\n",
       "        [109.821999],\n",
       "        [110.325996],\n",
       "        [110.764   ],\n",
       "        [110.963997],\n",
       "        [111.528   ],\n",
       "        [111.935997],\n",
       "        [111.460999],\n",
       "        [110.946999],\n",
       "        [110.968002],\n",
       "        [111.487   ],\n",
       "        [111.413002],\n",
       "        [111.662003],\n",
       "        [112.269997],\n",
       "        [113.388   ],\n",
       "        [113.518997],\n",
       "        [113.301003],\n",
       "        [113.834   ],\n",
       "        [114.323997],\n",
       "        [114.285004],\n",
       "        [114.542999],\n",
       "        [114.389   ],\n",
       "        [113.849998],\n",
       "        [113.664001],\n",
       "        [113.764999],\n",
       "        [114.188004],\n",
       "        [113.776001],\n",
       "        [113.615997],\n",
       "        [114.236   ],\n",
       "        [114.094002],\n",
       "        [113.961998],\n",
       "        [114.07    ],\n",
       "        [113.836998],\n",
       "        [113.474998],\n",
       "        [113.253998],\n",
       "        [112.912003],\n",
       "        [113.904999],\n",
       "        [114.042999],\n",
       "        [113.981003],\n",
       "        [114.132004],\n",
       "        [114.903999],\n",
       "        [114.190002],\n",
       "        [114.281998],\n",
       "        [114.138   ],\n",
       "        [114.790001],\n",
       "        [115.140999],\n",
       "        [115.407997],\n",
       "        [115.069   ],\n",
       "        [113.719002],\n",
       "        [113.804001],\n",
       "        [113.299004],\n",
       "        [112.882004],\n",
       "        [113.022003],\n",
       "        [113.042   ],\n",
       "        [113.458   ],\n",
       "        [113.525002],\n",
       "        [113.683998],\n",
       "        [113.447998],\n",
       "        [113.500999],\n",
       "        [113.577003],\n",
       "        [113.742996],\n",
       "        [114.136002],\n",
       "        [113.663002],\n",
       "        [113.517998],\n",
       "        [113.662003],\n",
       "        [113.994003],\n",
       "        [114.121002],\n",
       "        [114.458   ],\n",
       "        [114.333   ],\n",
       "        [114.792   ],\n",
       "        [114.773003],\n",
       "        [114.947998],\n",
       "        [115.063004],\n",
       "        [115.141998],\n",
       "        [115.328003],\n",
       "        [116.174004],\n",
       "        [116.127998],\n",
       "        [115.864998],\n",
       "        [115.617996],\n",
       "        [115.278   ],\n",
       "        [115.331001],\n",
       "        [114.675003],\n",
       "        [114.117996],\n",
       "        [114.306   ],\n",
       "        [114.570999],\n",
       "        [114.554001],\n",
       "        [114.347   ],\n",
       "        [113.992996],\n",
       "        [113.785004],\n",
       "        [114.011002],\n",
       "        [113.875   ],\n",
       "        [114.721001],\n",
       "        [115.351997],\n",
       "        [115.262001],\n",
       "        [115.121002],\n",
       "        [114.736   ],\n",
       "        [114.382004],\n",
       "        [114.957001],\n",
       "        [115.223999],\n",
       "        [115.063004],\n",
       "        [115.530998],\n",
       "        [115.601997],\n",
       "        [116.046997],\n",
       "        [115.584   ],\n",
       "        [115.536003],\n",
       "        [115.635002],\n",
       "        [115.387001],\n",
       "        [114.865997],\n",
       "        [114.960999],\n",
       "        [114.609001],\n",
       "        [115.096001],\n",
       "        [114.898003],\n",
       "        [115.570999],\n",
       "        [115.584999],\n",
       "        [115.078003],\n",
       "        [114.833   ],\n",
       "        [115.518997],\n",
       "        [115.473999],\n",
       "        [114.949997],\n",
       "        [115.373001],\n",
       "        [115.722   ],\n",
       "        [115.908997],\n",
       "        [116.179001],\n",
       "        [117.528999],\n",
       "        [118.218002],\n",
       "        [118.292   ],\n",
       "        [118.870003],\n",
       "        [118.486   ],\n",
       "        [119.263   ],\n",
       "        [119.594002],\n",
       "        [121.339996],\n",
       "        [121.126999],\n",
       "        [122.346001],\n",
       "        [122.269997],\n",
       "        [123.660004],\n",
       "        [123.125   ],\n",
       "        [122.021004],\n",
       "        [121.755997],\n",
       "        [122.610001],\n",
       "        [122.808998],\n",
       "        [123.655998],\n",
       "        [123.723   ],\n",
       "        [124.096001],\n",
       "        [124.385002],\n",
       "        [125.472   ],\n",
       "        [125.416   ],\n",
       "        [125.376999],\n",
       "        [126.179001],\n",
       "        [126.617996],\n",
       "        [127.098   ],\n",
       "        [129.332993],\n",
       "        [128.013   ],\n",
       "        [128.408005],\n",
       "        [128.604996],\n",
       "        [127.744003],\n",
       "        [127.265999],\n",
       "        [128.393997],\n",
       "        [130.811005],\n",
       "        [130.011002],\n",
       "        [130.112   ],\n",
       "        [130.115997],\n",
       "        [129.223007],\n",
       "        [130.330002],\n",
       "        [130.748993],\n",
       "        [130.376999],\n",
       "        [130.350998],\n",
       "        [129.835007],\n",
       "        [128.587997],\n",
       "        [129.432007],\n",
       "        [128.923004],\n",
       "        [129.453995],\n",
       "        [127.914001],\n",
       "        [127.832001],\n",
       "        [127.903   ],\n",
       "        [127.846001],\n",
       "        [126.768997],\n",
       "        [127.152   ],\n",
       "        [127.044998],\n",
       "        [127.285004],\n",
       "        [127.783997],\n",
       "        [128.735992],\n",
       "        [130.121994],\n",
       "        [129.917999],\n",
       "        [130.707001],\n",
       "        [132.175995],\n",
       "        [132.847   ],\n",
       "        [134.429993],\n",
       "        [134.417999],\n",
       "        [134.813995],\n",
       "        [134.225006],\n",
       "        [135.294006],\n",
       "        [134.115005],\n",
       "        [132.421005],\n",
       "        [135.276001],\n",
       "        [135.087006],\n",
       "        [136.268997],\n",
       "        [136.024002],\n",
       "        [134.839996],\n",
       "        [135.061996],\n",
       "        [135.434998],\n",
       "        [136.046997],\n",
       "        [136.589005],\n",
       "        [135.785995],\n",
       "        [135.042999],\n",
       "        [135.839996],\n",
       "        [135.520996],\n",
       "        [135.966003],\n",
       "        [135.912994],\n",
       "        [136.300995],\n",
       "        [137.388   ],\n",
       "        [136.725998],\n",
       "        [137.628006],\n",
       "        [138.966995],\n",
       "        [138.313995],\n",
       "        [138.229004],\n",
       "        [138.190994],\n",
       "        [138.395004],\n",
       "        [137.098007],\n",
       "        [136.311996],\n",
       "        [136.431   ],\n",
       "        [136.970001],\n",
       "        [136.110992],\n",
       "        [134.397003],\n",
       "        [133.406998],\n",
       "        [131.572006],\n",
       "        [133.378998],\n",
       "        [133.962006],\n",
       "        [132.621002],\n",
       "        [135.057007],\n",
       "        [134.839996],\n",
       "        [135.186996],\n",
       "        [132.830002],\n",
       "        [132.994003],\n",
       "        [133.287994],\n",
       "        [133.143005],\n",
       "        [134.276993],\n",
       "        [134.944   ],\n",
       "        [135.794998],\n",
       "        [137.041   ],\n",
       "        [137.546005],\n",
       "        [136.733002],\n",
       "        [137.080994],\n",
       "        [136.563004],\n",
       "        [137.520004],\n",
       "        [138.595993],\n",
       "        [138.733994],\n",
       "        [139.296005],\n",
       "        [140.080994],\n",
       "        [140.487   ],\n",
       "        [140.429993],\n",
       "        [143.151001],\n",
       "        [144.128006],\n",
       "        [143.856003],\n",
       "        [142.595993],\n",
       "        [142.585007],\n",
       "        [144.404007],\n",
       "        [142.923004],\n",
       "        [143.365005],\n",
       "        [142.764999],\n",
       "        [143.223007],\n",
       "        [143.602005],\n",
       "        [144.315994],\n",
       "        [142.279999],\n",
       "        [143.511002],\n",
       "        [144.459   ],\n",
       "        [144.690994],\n",
       "        [144.397995],\n",
       "        [144.431   ],\n",
       "        [144.815994],\n",
       "        [144.518997],\n",
       "        [143.787003],\n",
       "        [144.449005],\n",
       "        [145.039001],\n",
       "        [145.481995],\n",
       "        [145.673996],\n",
       "        [145.869995],\n",
       "        [146.737   ],\n",
       "        [147.292999],\n",
       "        [148.632004],\n",
       "        [148.970993],\n",
       "        [149.209   ],\n",
       "        [149.820999],\n",
       "        [150.175995],\n",
       "        [147.819   ],\n",
       "        [148.886993],\n",
       "        [147.979996],\n",
       "        [146.134003],\n",
       "        [146.274002],\n",
       "        [147.811996],\n",
       "        [148.737   ],\n",
       "        [147.914993],\n",
       "        [147.891998],\n",
       "        [148.393005],\n",
       "        [146.841003],\n",
       "        [146.623993],\n",
       "        [145.294998],\n",
       "        [146.209   ],\n",
       "        [141.733994],\n",
       "        [139.552994],\n",
       "        [140.115005],\n",
       "        [138.964996],\n",
       "        [139.322006],\n",
       "        [140.412003],\n",
       "        [140.253006],\n",
       "        [142.098007],\n",
       "        [141.154999],\n",
       "        [139.278   ],\n",
       "        [138.602997],\n",
       "        [139.100006],\n",
       "        [138.718994],\n",
       "        [138.744995],\n",
       "        [137.358994],\n",
       "        [135.149994],\n",
       "        [134.475006],\n",
       "        [136.651993],\n",
       "        [136.886002],\n",
       "        [136.380997],\n",
       "        [136.613998],\n",
       "        [136.712006],\n",
       "        [137.503998],\n",
       "        [135.584   ],\n",
       "        [135.348007],\n",
       "        [137.751007],\n",
       "        [136.690002],\n",
       "        [136.994995],\n",
       "        [131.891998],\n",
       "        [132.369995],\n",
       "        [132.356995],\n",
       "        [132.789993],\n",
       "        [132.764008],\n",
       "        [133.485992],\n",
       "        [134.033997],\n",
       "        [132.916   ],\n",
       "        [130.845001],\n",
       "        [130.794006],\n",
       "        [131.248001],\n",
       "        [132.246002],\n",
       "        [133.307007],\n",
       "        [131.862   ],\n",
       "        [131.729004],\n",
       "        [132.100998],\n",
       "        [131.901993],\n",
       "        [129.171997],\n",
       "        [128.026001],\n",
       "        [128.320999],\n",
       "        [128.281006],\n",
       "        [128.539001],\n",
       "        [128.369995],\n",
       "        [129.354004],\n",
       "        [130.597   ],\n",
       "        [130.238998],\n",
       "        [129.237   ],\n",
       "        [129.800003],\n",
       "        [129.854004],\n",
       "        [130.479004],\n",
       "        [130.110001],\n",
       "        [128.621994],\n",
       "        [128.746002],\n",
       "        [132.009003],\n",
       "        [132.623001],\n",
       "        [131.042007],\n",
       "        [131.386993],\n",
       "        [131.518997],\n",
       "        [131.550995],\n",
       "        [132.337006],\n",
       "        [132.990997],\n",
       "        [133.903   ],\n",
       "        [134.074005],\n",
       "        [134.307007],\n",
       "        [134.335999],\n",
       "        [134.975998],\n",
       "        [134.932007],\n",
       "        [134.628006],\n",
       "        [136.395004],\n",
       "        [136.317001],\n",
       "        [136.348007],\n",
       "        [136.194   ],\n",
       "        [136.705002],\n",
       "        [135.860001],\n",
       "        [135.998993],\n",
       "        [137.391006],\n",
       "        [137.225998],\n",
       "        [136.395004],\n",
       "        [134.979996],\n",
       "        [133.113998],\n",
       "        [134.397003],\n",
       "        [132.929001],\n",
       "        [133.367996],\n",
       "        [132.283997],\n",
       "        [131.391998],\n",
       "        [132.348007],\n",
       "        [131.179001],\n",
       "        [130.865005],\n",
       "        [130.845993],\n",
       "        [131.233002],\n",
       "        [131.046005],\n",
       "        [132.576004],\n",
       "        [133.201004],\n",
       "        [133.347   ],\n",
       "        [132.298996],\n",
       "        [131.485001],\n",
       "        [130.934006],\n",
       "        [131.669006],\n",
       "        [132.097   ],\n",
       "        [133.468994],\n",
       "        [133.593994],\n",
       "        [133.085007],\n",
       "        [132.487   ],\n",
       "        [133.970993],\n",
       "        [134.425003],\n",
       "        [134.044006],\n",
       "        [134.703995],\n",
       "        [133.996002],\n",
       "        [133.960999],\n",
       "        [134.084   ],\n",
       "        [133.710999],\n",
       "        [133.464996],\n",
       "        [133.802002],\n",
       "        [136.386002],\n",
       "        [137.520996],\n",
       "        [136.466003],\n",
       "        [134.544006],\n",
       "        [134.179001],\n",
       "        [135.199005],\n",
       "        [135.072998],\n",
       "        [135.287994],\n",
       "        [134.087006],\n",
       "        [134.498001],\n",
       "        [135.822006],\n",
       "        [136.044998],\n",
       "        [136.429993],\n",
       "        [137.613998],\n",
       "        [138.619995],\n",
       "        [137.692001],\n",
       "        [138.671997],\n",
       "        [138.598007],\n",
       "        [139.283005],\n",
       "        [140.016998],\n",
       "        [140.871002],\n",
       "        [140.440994],\n",
       "        [139.792007],\n",
       "        [139.126999],\n",
       "        [138.748001],\n",
       "        [140.207001],\n",
       "        [139.382996],\n",
       "        [139.526993],\n",
       "        [139.899002],\n",
       "        [138.863007],\n",
       "        [139.371002],\n",
       "        [139.460007],\n",
       "        [140.177002],\n",
       "        [139.977005],\n",
       "        [140.268005],\n",
       "        [141.867004],\n",
       "        [141.899002],\n",
       "        [141.335007],\n",
       "        [141.688004],\n",
       "        [143.029999],\n",
       "        [143.541   ],\n",
       "        [143.460007],\n",
       "        [143.847   ]]),\n",
       " array([[1.15375000e+03, 8.91200000e-01, 1.08681000e+02, 1.21970001e+02],\n",
       "        [1.15396997e+03, 8.91200000e-01, 1.08712997e+02, 1.21973000e+02],\n",
       "        [1.15715002e+03, 8.95140000e-01, 1.08542999e+02, 1.21245003e+02],\n",
       "        ...,\n",
       "        [1.30767004e+03, 9.16870000e-01, 1.43541000e+02, 1.56548004e+02],\n",
       "        [1.30266003e+03, 9.16550000e-01, 1.43460007e+02, 1.56511993e+02],\n",
       "        [1.30093994e+03, 9.12500000e-01, 1.43847000e+02, 1.57587006e+02]]))"
      ]
     },
     "execution_count": 113,
     "metadata": {},
     "output_type": "execute_result"
    }
   ],
   "source": [
    "X = df.iloc[:,np.ravel(2)].values # USD/JPY\n",
    "y = df.iloc[:,:-1].values # USD/GBP\n",
    "X,y\n",
    "# len(X), len(y)"
   ]
  },
  {
   "cell_type": "code",
   "execution_count": 114,
   "id": "be0a92ab",
   "metadata": {
    "scrolled": false
   },
   "outputs": [
    {
     "data": {
      "text/html": [
       "<style>#sk-container-id-7 {color: black;background-color: white;}#sk-container-id-7 pre{padding: 0;}#sk-container-id-7 div.sk-toggleable {background-color: white;}#sk-container-id-7 label.sk-toggleable__label {cursor: pointer;display: block;width: 100%;margin-bottom: 0;padding: 0.3em;box-sizing: border-box;text-align: center;}#sk-container-id-7 label.sk-toggleable__label-arrow:before {content: \"▸\";float: left;margin-right: 0.25em;color: #696969;}#sk-container-id-7 label.sk-toggleable__label-arrow:hover:before {color: black;}#sk-container-id-7 div.sk-estimator:hover label.sk-toggleable__label-arrow:before {color: black;}#sk-container-id-7 div.sk-toggleable__content {max-height: 0;max-width: 0;overflow: hidden;text-align: left;background-color: #f0f8ff;}#sk-container-id-7 div.sk-toggleable__content pre {margin: 0.2em;color: black;border-radius: 0.25em;background-color: #f0f8ff;}#sk-container-id-7 input.sk-toggleable__control:checked~div.sk-toggleable__content {max-height: 200px;max-width: 100%;overflow: auto;}#sk-container-id-7 input.sk-toggleable__control:checked~label.sk-toggleable__label-arrow:before {content: \"▾\";}#sk-container-id-7 div.sk-estimator input.sk-toggleable__control:checked~label.sk-toggleable__label {background-color: #d4ebff;}#sk-container-id-7 div.sk-label input.sk-toggleable__control:checked~label.sk-toggleable__label {background-color: #d4ebff;}#sk-container-id-7 input.sk-hidden--visually {border: 0;clip: rect(1px 1px 1px 1px);clip: rect(1px, 1px, 1px, 1px);height: 1px;margin: -1px;overflow: hidden;padding: 0;position: absolute;width: 1px;}#sk-container-id-7 div.sk-estimator {font-family: monospace;background-color: #f0f8ff;border: 1px dotted black;border-radius: 0.25em;box-sizing: border-box;margin-bottom: 0.5em;}#sk-container-id-7 div.sk-estimator:hover {background-color: #d4ebff;}#sk-container-id-7 div.sk-parallel-item::after {content: \"\";width: 100%;border-bottom: 1px solid gray;flex-grow: 1;}#sk-container-id-7 div.sk-label:hover label.sk-toggleable__label {background-color: #d4ebff;}#sk-container-id-7 div.sk-serial::before {content: \"\";position: absolute;border-left: 1px solid gray;box-sizing: border-box;top: 0;bottom: 0;left: 50%;z-index: 0;}#sk-container-id-7 div.sk-serial {display: flex;flex-direction: column;align-items: center;background-color: white;padding-right: 0.2em;padding-left: 0.2em;position: relative;}#sk-container-id-7 div.sk-item {position: relative;z-index: 1;}#sk-container-id-7 div.sk-parallel {display: flex;align-items: stretch;justify-content: center;background-color: white;position: relative;}#sk-container-id-7 div.sk-item::before, #sk-container-id-7 div.sk-parallel-item::before {content: \"\";position: absolute;border-left: 1px solid gray;box-sizing: border-box;top: 0;bottom: 0;left: 50%;z-index: -1;}#sk-container-id-7 div.sk-parallel-item {display: flex;flex-direction: column;z-index: 1;position: relative;background-color: white;}#sk-container-id-7 div.sk-parallel-item:first-child::after {align-self: flex-end;width: 50%;}#sk-container-id-7 div.sk-parallel-item:last-child::after {align-self: flex-start;width: 50%;}#sk-container-id-7 div.sk-parallel-item:only-child::after {width: 0;}#sk-container-id-7 div.sk-dashed-wrapped {border: 1px dashed gray;margin: 0 0.4em 0.5em 0.4em;box-sizing: border-box;padding-bottom: 0.4em;background-color: white;}#sk-container-id-7 div.sk-label label {font-family: monospace;font-weight: bold;display: inline-block;line-height: 1.2em;}#sk-container-id-7 div.sk-label-container {text-align: center;}#sk-container-id-7 div.sk-container {/* jupyter's `normalize.less` sets `[hidden] { display: none; }` but bootstrap.min.css set `[hidden] { display: none !important; }` so we also need the `!important` here to be able to override the default hidden behavior on the sphinx rendered scikit-learn.org. See: https://github.com/scikit-learn/scikit-learn/issues/21755 */display: inline-block !important;position: relative;}#sk-container-id-7 div.sk-text-repr-fallback {display: none;}</style><div id=\"sk-container-id-7\" class=\"sk-top-container\"><div class=\"sk-text-repr-fallback\"><pre>LinearRegression()</pre><b>In a Jupyter environment, please rerun this cell to show the HTML representation or trust the notebook. <br />On GitHub, the HTML representation is unable to render, please try loading this page with nbviewer.org.</b></div><div class=\"sk-container\" hidden><div class=\"sk-item\"><div class=\"sk-estimator sk-toggleable\"><input class=\"sk-toggleable__control sk-hidden--visually\" id=\"sk-estimator-id-7\" type=\"checkbox\" checked><label for=\"sk-estimator-id-7\" class=\"sk-toggleable__label sk-toggleable__label-arrow\">LinearRegression</label><div class=\"sk-toggleable__content\"><pre>LinearRegression()</pre></div></div></div></div></div>"
      ],
      "text/plain": [
       "LinearRegression()"
      ]
     },
     "execution_count": 114,
     "metadata": {},
     "output_type": "execute_result"
    }
   ],
   "source": [
    "reg = LinearRegression() # 객체 생성\n",
    "reg.fit(X,y) # fit이 학습모델 -> 학습하면서 모델생성"
   ]
  },
  {
   "cell_type": "code",
   "execution_count": 115,
   "id": "d8a3d361",
   "metadata": {},
   "outputs": [
    {
     "data": {
      "text/plain": [
       "((911, 4), (911, 1))"
      ]
     },
     "execution_count": 115,
     "metadata": {},
     "output_type": "execute_result"
    }
   ],
   "source": [
    "y.shape,X.shape"
   ]
  },
  {
   "cell_type": "code",
   "execution_count": 116,
   "id": "43871d98",
   "metadata": {
    "scrolled": true
   },
   "outputs": [
    {
     "data": {
      "text/plain": [
       "array([[1.16180550e+03, 8.62502463e-01, 1.08681000e+02, 1.26132290e+02],\n",
       "       [1.16198312e+03, 8.62610300e-01, 1.08712997e+02, 1.26151465e+02],\n",
       "       [1.16103942e+03, 8.62037371e-01, 1.08542999e+02, 1.26049587e+02],\n",
       "       ...,\n",
       "       [1.35532149e+03, 9.79987839e-01, 1.43541000e+02, 1.47023496e+02],\n",
       "       [1.35487187e+03, 9.79714876e-01, 1.43460007e+02, 1.46974958e+02],\n",
       "       [1.35702016e+03, 9.81019122e-01, 1.43847000e+02, 1.47206878e+02]])"
      ]
     },
     "execution_count": 116,
     "metadata": {},
     "output_type": "execute_result"
    }
   ],
   "source": [
    "y_pred = reg.predict(X) # X에 대한 예측 값\n",
    "y_pred"
   ]
  },
  {
   "cell_type": "code",
   "execution_count": 91,
   "id": "0e3d1057",
   "metadata": {},
   "outputs": [
    {
     "data": {
      "text/plain": [
       "((911, 1), (911, 4))"
      ]
     },
     "execution_count": 91,
     "metadata": {},
     "output_type": "execute_result"
    }
   ],
   "source": [
    "X.shape, y.shape"
   ]
  },
  {
   "cell_type": "code",
   "execution_count": 117,
   "id": "0c7042b7",
   "metadata": {},
   "outputs": [
    {
     "ename": "ValueError",
     "evalue": "x and y must be the same size",
     "output_type": "error",
     "traceback": [
      "\u001b[1;31m---------------------------------------------------------------------------\u001b[0m",
      "\u001b[1;31mValueError\u001b[0m                                Traceback (most recent call last)",
      "Cell \u001b[1;32mIn[117], line 1\u001b[0m\n\u001b[1;32m----> 1\u001b[0m \u001b[43mplt\u001b[49m\u001b[38;5;241;43m.\u001b[39;49m\u001b[43mscatter\u001b[49m\u001b[43m(\u001b[49m\u001b[43mX\u001b[49m\u001b[43m,\u001b[49m\u001b[43my\u001b[49m\u001b[43m,\u001b[49m\u001b[43m \u001b[49m\u001b[43mcolor\u001b[49m\u001b[38;5;241;43m=\u001b[39;49m\u001b[38;5;124;43m'\u001b[39;49m\u001b[38;5;124;43mblue\u001b[39;49m\u001b[38;5;124;43m'\u001b[39;49m\u001b[43m)\u001b[49m \u001b[38;5;66;03m# 산점도 그래프 (실제 값 그래프)\u001b[39;00m\n\u001b[0;32m      2\u001b[0m plt\u001b[38;5;241m.\u001b[39mplot(X, y_pred, color\u001b[38;5;241m=\u001b[39m\u001b[38;5;124m'\u001b[39m\u001b[38;5;124mgreen\u001b[39m\u001b[38;5;124m'\u001b[39m)  \u001b[38;5;66;03m# 선 그래프 (싸이킷런에서 회귀모델로 학습한 훟 예측한 그래프)\u001b[39;00m\n\u001b[0;32m      3\u001b[0m plt\u001b[38;5;241m.\u001b[39mtitle(\u001b[38;5;124m'\u001b[39m\u001b[38;5;124m하이닉스 BY 삼성전자\u001b[39m\u001b[38;5;124m'\u001b[39m)\n",
      "File \u001b[1;32m~\\anaconda3\\lib\\site-packages\\matplotlib\\pyplot.py:2835\u001b[0m, in \u001b[0;36mscatter\u001b[1;34m(x, y, s, c, marker, cmap, norm, vmin, vmax, alpha, linewidths, edgecolors, plotnonfinite, data, **kwargs)\u001b[0m\n\u001b[0;32m   2830\u001b[0m \u001b[38;5;129m@_copy_docstring_and_deprecators\u001b[39m(Axes\u001b[38;5;241m.\u001b[39mscatter)\n\u001b[0;32m   2831\u001b[0m \u001b[38;5;28;01mdef\u001b[39;00m \u001b[38;5;21mscatter\u001b[39m(\n\u001b[0;32m   2832\u001b[0m         x, y, s\u001b[38;5;241m=\u001b[39m\u001b[38;5;28;01mNone\u001b[39;00m, c\u001b[38;5;241m=\u001b[39m\u001b[38;5;28;01mNone\u001b[39;00m, marker\u001b[38;5;241m=\u001b[39m\u001b[38;5;28;01mNone\u001b[39;00m, cmap\u001b[38;5;241m=\u001b[39m\u001b[38;5;28;01mNone\u001b[39;00m, norm\u001b[38;5;241m=\u001b[39m\u001b[38;5;28;01mNone\u001b[39;00m,\n\u001b[0;32m   2833\u001b[0m         vmin\u001b[38;5;241m=\u001b[39m\u001b[38;5;28;01mNone\u001b[39;00m, vmax\u001b[38;5;241m=\u001b[39m\u001b[38;5;28;01mNone\u001b[39;00m, alpha\u001b[38;5;241m=\u001b[39m\u001b[38;5;28;01mNone\u001b[39;00m, linewidths\u001b[38;5;241m=\u001b[39m\u001b[38;5;28;01mNone\u001b[39;00m, \u001b[38;5;241m*\u001b[39m,\n\u001b[0;32m   2834\u001b[0m         edgecolors\u001b[38;5;241m=\u001b[39m\u001b[38;5;28;01mNone\u001b[39;00m, plotnonfinite\u001b[38;5;241m=\u001b[39m\u001b[38;5;28;01mFalse\u001b[39;00m, data\u001b[38;5;241m=\u001b[39m\u001b[38;5;28;01mNone\u001b[39;00m, \u001b[38;5;241m*\u001b[39m\u001b[38;5;241m*\u001b[39mkwargs):\n\u001b[1;32m-> 2835\u001b[0m     __ret \u001b[38;5;241m=\u001b[39m gca()\u001b[38;5;241m.\u001b[39mscatter(\n\u001b[0;32m   2836\u001b[0m         x, y, s\u001b[38;5;241m=\u001b[39ms, c\u001b[38;5;241m=\u001b[39mc, marker\u001b[38;5;241m=\u001b[39mmarker, cmap\u001b[38;5;241m=\u001b[39mcmap, norm\u001b[38;5;241m=\u001b[39mnorm,\n\u001b[0;32m   2837\u001b[0m         vmin\u001b[38;5;241m=\u001b[39mvmin, vmax\u001b[38;5;241m=\u001b[39mvmax, alpha\u001b[38;5;241m=\u001b[39malpha, linewidths\u001b[38;5;241m=\u001b[39mlinewidths,\n\u001b[0;32m   2838\u001b[0m         edgecolors\u001b[38;5;241m=\u001b[39medgecolors, plotnonfinite\u001b[38;5;241m=\u001b[39mplotnonfinite,\n\u001b[0;32m   2839\u001b[0m         \u001b[38;5;241m*\u001b[39m\u001b[38;5;241m*\u001b[39m({\u001b[38;5;124m\"\u001b[39m\u001b[38;5;124mdata\u001b[39m\u001b[38;5;124m\"\u001b[39m: data} \u001b[38;5;28;01mif\u001b[39;00m data \u001b[38;5;129;01mis\u001b[39;00m \u001b[38;5;129;01mnot\u001b[39;00m \u001b[38;5;28;01mNone\u001b[39;00m \u001b[38;5;28;01melse\u001b[39;00m {}), \u001b[38;5;241m*\u001b[39m\u001b[38;5;241m*\u001b[39mkwargs)\n\u001b[0;32m   2840\u001b[0m     sci(__ret)\n\u001b[0;32m   2841\u001b[0m     \u001b[38;5;28;01mreturn\u001b[39;00m __ret\n",
      "File \u001b[1;32m~\\anaconda3\\lib\\site-packages\\matplotlib\\__init__.py:1442\u001b[0m, in \u001b[0;36m_preprocess_data.<locals>.inner\u001b[1;34m(ax, data, *args, **kwargs)\u001b[0m\n\u001b[0;32m   1439\u001b[0m \u001b[38;5;129m@functools\u001b[39m\u001b[38;5;241m.\u001b[39mwraps(func)\n\u001b[0;32m   1440\u001b[0m \u001b[38;5;28;01mdef\u001b[39;00m \u001b[38;5;21minner\u001b[39m(ax, \u001b[38;5;241m*\u001b[39margs, data\u001b[38;5;241m=\u001b[39m\u001b[38;5;28;01mNone\u001b[39;00m, \u001b[38;5;241m*\u001b[39m\u001b[38;5;241m*\u001b[39mkwargs):\n\u001b[0;32m   1441\u001b[0m     \u001b[38;5;28;01mif\u001b[39;00m data \u001b[38;5;129;01mis\u001b[39;00m \u001b[38;5;28;01mNone\u001b[39;00m:\n\u001b[1;32m-> 1442\u001b[0m         \u001b[38;5;28;01mreturn\u001b[39;00m func(ax, \u001b[38;5;241m*\u001b[39m\u001b[38;5;28mmap\u001b[39m(sanitize_sequence, args), \u001b[38;5;241m*\u001b[39m\u001b[38;5;241m*\u001b[39mkwargs)\n\u001b[0;32m   1444\u001b[0m     bound \u001b[38;5;241m=\u001b[39m new_sig\u001b[38;5;241m.\u001b[39mbind(ax, \u001b[38;5;241m*\u001b[39margs, \u001b[38;5;241m*\u001b[39m\u001b[38;5;241m*\u001b[39mkwargs)\n\u001b[0;32m   1445\u001b[0m     auto_label \u001b[38;5;241m=\u001b[39m (bound\u001b[38;5;241m.\u001b[39marguments\u001b[38;5;241m.\u001b[39mget(label_namer)\n\u001b[0;32m   1446\u001b[0m                   \u001b[38;5;129;01mor\u001b[39;00m bound\u001b[38;5;241m.\u001b[39mkwargs\u001b[38;5;241m.\u001b[39mget(label_namer))\n",
      "File \u001b[1;32m~\\anaconda3\\lib\\site-packages\\matplotlib\\axes\\_axes.py:4584\u001b[0m, in \u001b[0;36mAxes.scatter\u001b[1;34m(self, x, y, s, c, marker, cmap, norm, vmin, vmax, alpha, linewidths, edgecolors, plotnonfinite, **kwargs)\u001b[0m\n\u001b[0;32m   4582\u001b[0m y \u001b[38;5;241m=\u001b[39m np\u001b[38;5;241m.\u001b[39mma\u001b[38;5;241m.\u001b[39mravel(y)\n\u001b[0;32m   4583\u001b[0m \u001b[38;5;28;01mif\u001b[39;00m x\u001b[38;5;241m.\u001b[39msize \u001b[38;5;241m!=\u001b[39m y\u001b[38;5;241m.\u001b[39msize:\n\u001b[1;32m-> 4584\u001b[0m     \u001b[38;5;28;01mraise\u001b[39;00m \u001b[38;5;167;01mValueError\u001b[39;00m(\u001b[38;5;124m\"\u001b[39m\u001b[38;5;124mx and y must be the same size\u001b[39m\u001b[38;5;124m\"\u001b[39m)\n\u001b[0;32m   4586\u001b[0m \u001b[38;5;28;01mif\u001b[39;00m s \u001b[38;5;129;01mis\u001b[39;00m \u001b[38;5;28;01mNone\u001b[39;00m:\n\u001b[0;32m   4587\u001b[0m     s \u001b[38;5;241m=\u001b[39m (\u001b[38;5;241m20\u001b[39m \u001b[38;5;28;01mif\u001b[39;00m mpl\u001b[38;5;241m.\u001b[39mrcParams[\u001b[38;5;124m'\u001b[39m\u001b[38;5;124m_internal.classic_mode\u001b[39m\u001b[38;5;124m'\u001b[39m] \u001b[38;5;28;01melse\u001b[39;00m\n\u001b[0;32m   4588\u001b[0m          mpl\u001b[38;5;241m.\u001b[39mrcParams[\u001b[38;5;124m'\u001b[39m\u001b[38;5;124mlines.markersize\u001b[39m\u001b[38;5;124m'\u001b[39m] \u001b[38;5;241m*\u001b[39m\u001b[38;5;241m*\u001b[39m \u001b[38;5;241m2.0\u001b[39m)\n",
      "\u001b[1;31mValueError\u001b[0m: x and y must be the same size"
     ]
    },
    {
     "data": {
      "image/png": "[encoded data removed]",
      "text/plain": [
       "<Figure size 1200x600 with 1 Axes>"
      ]
     },
     "metadata": {},
     "output_type": "display_data"
    }
   ],
   "source": [
    "plt.scatter(X,y, color='blue') # 산점도 그래프 (실제 값 그래프)\n",
    "plt.plot(X, y_pred, color='green')  # 선 그래프 (싸이킷런에서 회귀모델로 학습한 훟 예측한 그래프)\n",
    "plt.title('하이닉스 BY 삼성전자')\n",
    "plt.xlabel('삼성전자')\n",
    "plt.ylabel('SK하이닉스')\n",
    "plt.show()"
   ]
  },
  {
   "cell_type": "code",
   "execution_count": 61,
   "id": "2f8153e9",
   "metadata": {},
   "outputs": [
    {
     "ename": "ValueError",
     "evalue": "X has 1 features, but LinearRegression is expecting 3 features as input.",
     "output_type": "error",
     "traceback": [
      "\u001b[1;31m---------------------------------------------------------------------------\u001b[0m",
      "\u001b[1;31mValueError\u001b[0m                                Traceback (most recent call last)",
      "Cell \u001b[1;32mIn[61], line 1\u001b[0m\n\u001b[1;32m----> 1\u001b[0m \u001b[38;5;28mprint\u001b[39m(\u001b[38;5;124m'\u001b[39m\u001b[38;5;124m삼성전자 가격에 따른 SK하이닉스 예상가격 :\u001b[39m\u001b[38;5;124m'\u001b[39m, \u001b[43mreg\u001b[49m\u001b[38;5;241;43m.\u001b[39;49m\u001b[43mpredict\u001b[49m\u001b[43m(\u001b[49m\u001b[43m[\u001b[49m\u001b[43m[\u001b[49m\u001b[38;5;241;43m80000\u001b[39;49m\u001b[43m]\u001b[49m\u001b[43m]\u001b[49m\u001b[43m)\u001b[49m)\n",
      "File \u001b[1;32m~\\anaconda3\\lib\\site-packages\\sklearn\\linear_model\\_base.py:354\u001b[0m, in \u001b[0;36mLinearModel.predict\u001b[1;34m(self, X)\u001b[0m\n\u001b[0;32m    340\u001b[0m \u001b[38;5;28;01mdef\u001b[39;00m \u001b[38;5;21mpredict\u001b[39m(\u001b[38;5;28mself\u001b[39m, X):\n\u001b[0;32m    341\u001b[0m     \u001b[38;5;124;03m\"\"\"\u001b[39;00m\n\u001b[0;32m    342\u001b[0m \u001b[38;5;124;03m    Predict using the linear model.\u001b[39;00m\n\u001b[0;32m    343\u001b[0m \n\u001b[1;32m   (...)\u001b[0m\n\u001b[0;32m    352\u001b[0m \u001b[38;5;124;03m        Returns predicted values.\u001b[39;00m\n\u001b[0;32m    353\u001b[0m \u001b[38;5;124;03m    \"\"\"\u001b[39;00m\n\u001b[1;32m--> 354\u001b[0m     \u001b[38;5;28;01mreturn\u001b[39;00m \u001b[38;5;28;43mself\u001b[39;49m\u001b[38;5;241;43m.\u001b[39;49m\u001b[43m_decision_function\u001b[49m\u001b[43m(\u001b[49m\u001b[43mX\u001b[49m\u001b[43m)\u001b[49m\n",
      "File \u001b[1;32m~\\anaconda3\\lib\\site-packages\\sklearn\\linear_model\\_base.py:337\u001b[0m, in \u001b[0;36mLinearModel._decision_function\u001b[1;34m(self, X)\u001b[0m\n\u001b[0;32m    334\u001b[0m \u001b[38;5;28;01mdef\u001b[39;00m \u001b[38;5;21m_decision_function\u001b[39m(\u001b[38;5;28mself\u001b[39m, X):\n\u001b[0;32m    335\u001b[0m     check_is_fitted(\u001b[38;5;28mself\u001b[39m)\n\u001b[1;32m--> 337\u001b[0m     X \u001b[38;5;241m=\u001b[39m \u001b[38;5;28;43mself\u001b[39;49m\u001b[38;5;241;43m.\u001b[39;49m\u001b[43m_validate_data\u001b[49m\u001b[43m(\u001b[49m\u001b[43mX\u001b[49m\u001b[43m,\u001b[49m\u001b[43m \u001b[49m\u001b[43maccept_sparse\u001b[49m\u001b[38;5;241;43m=\u001b[39;49m\u001b[43m[\u001b[49m\u001b[38;5;124;43m\"\u001b[39;49m\u001b[38;5;124;43mcsr\u001b[39;49m\u001b[38;5;124;43m\"\u001b[39;49m\u001b[43m,\u001b[49m\u001b[43m \u001b[49m\u001b[38;5;124;43m\"\u001b[39;49m\u001b[38;5;124;43mcsc\u001b[39;49m\u001b[38;5;124;43m\"\u001b[39;49m\u001b[43m,\u001b[49m\u001b[43m \u001b[49m\u001b[38;5;124;43m\"\u001b[39;49m\u001b[38;5;124;43mcoo\u001b[39;49m\u001b[38;5;124;43m\"\u001b[39;49m\u001b[43m]\u001b[49m\u001b[43m,\u001b[49m\u001b[43m \u001b[49m\u001b[43mreset\u001b[49m\u001b[38;5;241;43m=\u001b[39;49m\u001b[38;5;28;43;01mFalse\u001b[39;49;00m\u001b[43m)\u001b[49m\n\u001b[0;32m    338\u001b[0m     \u001b[38;5;28;01mreturn\u001b[39;00m safe_sparse_dot(X, \u001b[38;5;28mself\u001b[39m\u001b[38;5;241m.\u001b[39mcoef_\u001b[38;5;241m.\u001b[39mT, dense_output\u001b[38;5;241m=\u001b[39m\u001b[38;5;28;01mTrue\u001b[39;00m) \u001b[38;5;241m+\u001b[39m \u001b[38;5;28mself\u001b[39m\u001b[38;5;241m.\u001b[39mintercept_\n",
      "File \u001b[1;32m~\\anaconda3\\lib\\site-packages\\sklearn\\base.py:569\u001b[0m, in \u001b[0;36mBaseEstimator._validate_data\u001b[1;34m(self, X, y, reset, validate_separately, **check_params)\u001b[0m\n\u001b[0;32m    566\u001b[0m     out \u001b[38;5;241m=\u001b[39m X, y\n\u001b[0;32m    568\u001b[0m \u001b[38;5;28;01mif\u001b[39;00m \u001b[38;5;129;01mnot\u001b[39;00m no_val_X \u001b[38;5;129;01mand\u001b[39;00m check_params\u001b[38;5;241m.\u001b[39mget(\u001b[38;5;124m\"\u001b[39m\u001b[38;5;124mensure_2d\u001b[39m\u001b[38;5;124m\"\u001b[39m, \u001b[38;5;28;01mTrue\u001b[39;00m):\n\u001b[1;32m--> 569\u001b[0m     \u001b[38;5;28;43mself\u001b[39;49m\u001b[38;5;241;43m.\u001b[39;49m\u001b[43m_check_n_features\u001b[49m\u001b[43m(\u001b[49m\u001b[43mX\u001b[49m\u001b[43m,\u001b[49m\u001b[43m \u001b[49m\u001b[43mreset\u001b[49m\u001b[38;5;241;43m=\u001b[39;49m\u001b[43mreset\u001b[49m\u001b[43m)\u001b[49m\n\u001b[0;32m    571\u001b[0m \u001b[38;5;28;01mreturn\u001b[39;00m out\n",
      "File \u001b[1;32m~\\anaconda3\\lib\\site-packages\\sklearn\\base.py:370\u001b[0m, in \u001b[0;36mBaseEstimator._check_n_features\u001b[1;34m(self, X, reset)\u001b[0m\n\u001b[0;32m    367\u001b[0m     \u001b[38;5;28;01mreturn\u001b[39;00m\n\u001b[0;32m    369\u001b[0m \u001b[38;5;28;01mif\u001b[39;00m n_features \u001b[38;5;241m!=\u001b[39m \u001b[38;5;28mself\u001b[39m\u001b[38;5;241m.\u001b[39mn_features_in_:\n\u001b[1;32m--> 370\u001b[0m     \u001b[38;5;28;01mraise\u001b[39;00m \u001b[38;5;167;01mValueError\u001b[39;00m(\n\u001b[0;32m    371\u001b[0m         \u001b[38;5;124mf\u001b[39m\u001b[38;5;124m\"\u001b[39m\u001b[38;5;124mX has \u001b[39m\u001b[38;5;132;01m{\u001b[39;00mn_features\u001b[38;5;132;01m}\u001b[39;00m\u001b[38;5;124m features, but \u001b[39m\u001b[38;5;132;01m{\u001b[39;00m\u001b[38;5;28mself\u001b[39m\u001b[38;5;241m.\u001b[39m\u001b[38;5;18m__class__\u001b[39m\u001b[38;5;241m.\u001b[39m\u001b[38;5;18m__name__\u001b[39m\u001b[38;5;132;01m}\u001b[39;00m\u001b[38;5;124m \u001b[39m\u001b[38;5;124m\"\u001b[39m\n\u001b[0;32m    372\u001b[0m         \u001b[38;5;124mf\u001b[39m\u001b[38;5;124m\"\u001b[39m\u001b[38;5;124mis expecting \u001b[39m\u001b[38;5;132;01m{\u001b[39;00m\u001b[38;5;28mself\u001b[39m\u001b[38;5;241m.\u001b[39mn_features_in_\u001b[38;5;132;01m}\u001b[39;00m\u001b[38;5;124m features as input.\u001b[39m\u001b[38;5;124m\"\u001b[39m\n\u001b[0;32m    373\u001b[0m     )\n",
      "\u001b[1;31mValueError\u001b[0m: X has 1 features, but LinearRegression is expecting 3 features as input."
     ]
    }
   ],
   "source": [
    "print('삼성전자 가격에 따른 SK하이닉스 예상가격 :', reg.predict([[80000]]))\n",
    "# print('9,8,10시간 공부했을 때 예상 점수 :', reg.predict([[9],[8],[10]]))"
   ]
  },
  {
   "cell_type": "code",
   "execution_count": 62,
   "id": "aa01632b",
   "metadata": {},
   "outputs": [
    {
     "data": {
      "text/plain": [
       "(array([[ 5.81071327e+00, -2.76479759e+00,  5.42653632e+02],\n",
       "        [ 7.72499423e-03, -7.08471228e-03, -4.23270689e-02],\n",
       "        [ 1.00000000e+00, -1.72726688e-17,  1.32774660e-15],\n",
       "        [-2.39256766e-17,  1.00000000e+00, -7.68070077e-15]]),\n",
       " array([ 4.70712881e+02,  9.48401495e-01, -2.84217094e-14,  5.68434189e-14]))"
      ]
     },
     "execution_count": 62,
     "metadata": {},
     "output_type": "execute_result"
    }
   ],
   "source": [
    "reg.coef_, reg.intercept_"
   ]
  },
  {
   "cell_type": "markdown",
   "id": "b767625c",
   "metadata": {},
   "source": [
    "## 데이터 세트 분리"
   ]
  },
  {
   "cell_type": "code",
   "execution_count": 118,
   "id": "7e50d3ea",
   "metadata": {},
   "outputs": [],
   "source": [
    "from sklearn.model_selection import train_test_split  # 데이터 분리는 sklearn.moder_selection 이고 리니어는 sklearn.linear_modeol import LinearRegression\n",
    "X_train, X_test, y_train, y_test = train_test_split(X,y, test_size=0.2, random_state=0)  # 테스트 사이즈를 8:2로 하겠다 test_size = 0.2 random_state = 0 은 그냥 확인용"
   ]
  },
  {
   "cell_type": "code",
   "execution_count": 119,
   "id": "2e6c77dc",
   "metadata": {},
   "outputs": [
    {
     "data": {
      "text/plain": [
       "(728, 183)"
      ]
     },
     "execution_count": 119,
     "metadata": {},
     "output_type": "execute_result"
    }
   ],
   "source": [
    "len(X_train), len(X_test)"
   ]
  },
  {
   "cell_type": "code",
   "execution_count": 120,
   "id": "106e5dd1",
   "metadata": {},
   "outputs": [
    {
     "data": {
      "text/plain": [
       "(728, 183)"
      ]
     },
     "execution_count": 120,
     "metadata": {},
     "output_type": "execute_result"
    }
   ],
   "source": [
    "len(y_train), len(y_test)"
   ]
  },
  {
   "cell_type": "markdown",
   "id": "bd5673c7",
   "metadata": {},
   "source": [
    "### 분리된 데이터를 통해 모델링"
   ]
  },
  {
   "cell_type": "code",
   "execution_count": 121,
   "id": "8703bca8",
   "metadata": {},
   "outputs": [
    {
     "data": {
      "text/html": [
       "<style>#sk-container-id-8 {color: black;background-color: white;}#sk-container-id-8 pre{padding: 0;}#sk-container-id-8 div.sk-toggleable {background-color: white;}#sk-container-id-8 label.sk-toggleable__label {cursor: pointer;display: block;width: 100%;margin-bottom: 0;padding: 0.3em;box-sizing: border-box;text-align: center;}#sk-container-id-8 label.sk-toggleable__label-arrow:before {content: \"▸\";float: left;margin-right: 0.25em;color: #696969;}#sk-container-id-8 label.sk-toggleable__label-arrow:hover:before {color: black;}#sk-container-id-8 div.sk-estimator:hover label.sk-toggleable__label-arrow:before {color: black;}#sk-container-id-8 div.sk-toggleable__content {max-height: 0;max-width: 0;overflow: hidden;text-align: left;background-color: #f0f8ff;}#sk-container-id-8 div.sk-toggleable__content pre {margin: 0.2em;color: black;border-radius: 0.25em;background-color: #f0f8ff;}#sk-container-id-8 input.sk-toggleable__control:checked~div.sk-toggleable__content {max-height: 200px;max-width: 100%;overflow: auto;}#sk-container-id-8 input.sk-toggleable__control:checked~label.sk-toggleable__label-arrow:before {content: \"▾\";}#sk-container-id-8 div.sk-estimator input.sk-toggleable__control:checked~label.sk-toggleable__label {background-color: #d4ebff;}#sk-container-id-8 div.sk-label input.sk-toggleable__control:checked~label.sk-toggleable__label {background-color: #d4ebff;}#sk-container-id-8 input.sk-hidden--visually {border: 0;clip: rect(1px 1px 1px 1px);clip: rect(1px, 1px, 1px, 1px);height: 1px;margin: -1px;overflow: hidden;padding: 0;position: absolute;width: 1px;}#sk-container-id-8 div.sk-estimator {font-family: monospace;background-color: #f0f8ff;border: 1px dotted black;border-radius: 0.25em;box-sizing: border-box;margin-bottom: 0.5em;}#sk-container-id-8 div.sk-estimator:hover {background-color: #d4ebff;}#sk-container-id-8 div.sk-parallel-item::after {content: \"\";width: 100%;border-bottom: 1px solid gray;flex-grow: 1;}#sk-container-id-8 div.sk-label:hover label.sk-toggleable__label {background-color: #d4ebff;}#sk-container-id-8 div.sk-serial::before {content: \"\";position: absolute;border-left: 1px solid gray;box-sizing: border-box;top: 0;bottom: 0;left: 50%;z-index: 0;}#sk-container-id-8 div.sk-serial {display: flex;flex-direction: column;align-items: center;background-color: white;padding-right: 0.2em;padding-left: 0.2em;position: relative;}#sk-container-id-8 div.sk-item {position: relative;z-index: 1;}#sk-container-id-8 div.sk-parallel {display: flex;align-items: stretch;justify-content: center;background-color: white;position: relative;}#sk-container-id-8 div.sk-item::before, #sk-container-id-8 div.sk-parallel-item::before {content: \"\";position: absolute;border-left: 1px solid gray;box-sizing: border-box;top: 0;bottom: 0;left: 50%;z-index: -1;}#sk-container-id-8 div.sk-parallel-item {display: flex;flex-direction: column;z-index: 1;position: relative;background-color: white;}#sk-container-id-8 div.sk-parallel-item:first-child::after {align-self: flex-end;width: 50%;}#sk-container-id-8 div.sk-parallel-item:last-child::after {align-self: flex-start;width: 50%;}#sk-container-id-8 div.sk-parallel-item:only-child::after {width: 0;}#sk-container-id-8 div.sk-dashed-wrapped {border: 1px dashed gray;margin: 0 0.4em 0.5em 0.4em;box-sizing: border-box;padding-bottom: 0.4em;background-color: white;}#sk-container-id-8 div.sk-label label {font-family: monospace;font-weight: bold;display: inline-block;line-height: 1.2em;}#sk-container-id-8 div.sk-label-container {text-align: center;}#sk-container-id-8 div.sk-container {/* jupyter's `normalize.less` sets `[hidden] { display: none; }` but bootstrap.min.css set `[hidden] { display: none !important; }` so we also need the `!important` here to be able to override the default hidden behavior on the sphinx rendered scikit-learn.org. See: https://github.com/scikit-learn/scikit-learn/issues/21755 */display: inline-block !important;position: relative;}#sk-container-id-8 div.sk-text-repr-fallback {display: none;}</style><div id=\"sk-container-id-8\" class=\"sk-top-container\"><div class=\"sk-text-repr-fallback\"><pre>LinearRegression()</pre><b>In a Jupyter environment, please rerun this cell to show the HTML representation or trust the notebook. <br />On GitHub, the HTML representation is unable to render, please try loading this page with nbviewer.org.</b></div><div class=\"sk-container\" hidden><div class=\"sk-item\"><div class=\"sk-estimator sk-toggleable\"><input class=\"sk-toggleable__control sk-hidden--visually\" id=\"sk-estimator-id-8\" type=\"checkbox\" checked><label for=\"sk-estimator-id-8\" class=\"sk-toggleable__label sk-toggleable__label-arrow\">LinearRegression</label><div class=\"sk-toggleable__content\"><pre>LinearRegression()</pre></div></div></div></div></div>"
      ],
      "text/plain": [
       "LinearRegression()"
      ]
     },
     "execution_count": 121,
     "metadata": {},
     "output_type": "execute_result"
    }
   ],
   "source": [
    "reg = LinearRegression()\n",
    "reg.fit(X_train, y_train) # 훈련세트로 학습"
   ]
  },
  {
   "cell_type": "code",
   "execution_count": 122,
   "id": "b9a94053",
   "metadata": {
    "collapsed": true
   },
   "outputs": [
    {
     "ename": "ValueError",
     "evalue": "x and y must be the same size",
     "output_type": "error",
     "traceback": [
      "\u001b[1;31m---------------------------------------------------------------------------\u001b[0m",
      "\u001b[1;31mValueError\u001b[0m                                Traceback (most recent call last)",
      "Cell \u001b[1;32mIn[122], line 1\u001b[0m\n\u001b[1;32m----> 1\u001b[0m \u001b[43mplt\u001b[49m\u001b[38;5;241;43m.\u001b[39;49m\u001b[43mscatter\u001b[49m\u001b[43m(\u001b[49m\u001b[43mX_train\u001b[49m\u001b[43m,\u001b[49m\u001b[43my_train\u001b[49m\u001b[43m,\u001b[49m\u001b[43m \u001b[49m\u001b[43mcolor\u001b[49m\u001b[38;5;241;43m=\u001b[39;49m\u001b[38;5;124;43m'\u001b[39;49m\u001b[38;5;124;43mblue\u001b[39;49m\u001b[38;5;124;43m'\u001b[39;49m\u001b[43m)\u001b[49m \u001b[38;5;66;03m# 산점도 그래프 -> 실제 값?\u001b[39;00m\n\u001b[0;32m      2\u001b[0m plt\u001b[38;5;241m.\u001b[39mplot(X_train, reg\u001b[38;5;241m.\u001b[39mpredict(X_train), color\u001b[38;5;241m=\u001b[39m\u001b[38;5;124m'\u001b[39m\u001b[38;5;124mgreen\u001b[39m\u001b[38;5;124m'\u001b[39m)  \u001b[38;5;66;03m# 선 그래프  -> 예측 값?\u001b[39;00m\n\u001b[0;32m      3\u001b[0m plt\u001b[38;5;241m.\u001b[39mtitle(\u001b[38;5;124m'\u001b[39m\u001b[38;5;124m하이닉스 BY 삼성전자(train data)\u001b[39m\u001b[38;5;124m'\u001b[39m)\n",
      "File \u001b[1;32m~\\anaconda3\\lib\\site-packages\\matplotlib\\pyplot.py:2835\u001b[0m, in \u001b[0;36mscatter\u001b[1;34m(x, y, s, c, marker, cmap, norm, vmin, vmax, alpha, linewidths, edgecolors, plotnonfinite, data, **kwargs)\u001b[0m\n\u001b[0;32m   2830\u001b[0m \u001b[38;5;129m@_copy_docstring_and_deprecators\u001b[39m(Axes\u001b[38;5;241m.\u001b[39mscatter)\n\u001b[0;32m   2831\u001b[0m \u001b[38;5;28;01mdef\u001b[39;00m \u001b[38;5;21mscatter\u001b[39m(\n\u001b[0;32m   2832\u001b[0m         x, y, s\u001b[38;5;241m=\u001b[39m\u001b[38;5;28;01mNone\u001b[39;00m, c\u001b[38;5;241m=\u001b[39m\u001b[38;5;28;01mNone\u001b[39;00m, marker\u001b[38;5;241m=\u001b[39m\u001b[38;5;28;01mNone\u001b[39;00m, cmap\u001b[38;5;241m=\u001b[39m\u001b[38;5;28;01mNone\u001b[39;00m, norm\u001b[38;5;241m=\u001b[39m\u001b[38;5;28;01mNone\u001b[39;00m,\n\u001b[0;32m   2833\u001b[0m         vmin\u001b[38;5;241m=\u001b[39m\u001b[38;5;28;01mNone\u001b[39;00m, vmax\u001b[38;5;241m=\u001b[39m\u001b[38;5;28;01mNone\u001b[39;00m, alpha\u001b[38;5;241m=\u001b[39m\u001b[38;5;28;01mNone\u001b[39;00m, linewidths\u001b[38;5;241m=\u001b[39m\u001b[38;5;28;01mNone\u001b[39;00m, \u001b[38;5;241m*\u001b[39m,\n\u001b[0;32m   2834\u001b[0m         edgecolors\u001b[38;5;241m=\u001b[39m\u001b[38;5;28;01mNone\u001b[39;00m, plotnonfinite\u001b[38;5;241m=\u001b[39m\u001b[38;5;28;01mFalse\u001b[39;00m, data\u001b[38;5;241m=\u001b[39m\u001b[38;5;28;01mNone\u001b[39;00m, \u001b[38;5;241m*\u001b[39m\u001b[38;5;241m*\u001b[39mkwargs):\n\u001b[1;32m-> 2835\u001b[0m     __ret \u001b[38;5;241m=\u001b[39m gca()\u001b[38;5;241m.\u001b[39mscatter(\n\u001b[0;32m   2836\u001b[0m         x, y, s\u001b[38;5;241m=\u001b[39ms, c\u001b[38;5;241m=\u001b[39mc, marker\u001b[38;5;241m=\u001b[39mmarker, cmap\u001b[38;5;241m=\u001b[39mcmap, norm\u001b[38;5;241m=\u001b[39mnorm,\n\u001b[0;32m   2837\u001b[0m         vmin\u001b[38;5;241m=\u001b[39mvmin, vmax\u001b[38;5;241m=\u001b[39mvmax, alpha\u001b[38;5;241m=\u001b[39malpha, linewidths\u001b[38;5;241m=\u001b[39mlinewidths,\n\u001b[0;32m   2838\u001b[0m         edgecolors\u001b[38;5;241m=\u001b[39medgecolors, plotnonfinite\u001b[38;5;241m=\u001b[39mplotnonfinite,\n\u001b[0;32m   2839\u001b[0m         \u001b[38;5;241m*\u001b[39m\u001b[38;5;241m*\u001b[39m({\u001b[38;5;124m\"\u001b[39m\u001b[38;5;124mdata\u001b[39m\u001b[38;5;124m\"\u001b[39m: data} \u001b[38;5;28;01mif\u001b[39;00m data \u001b[38;5;129;01mis\u001b[39;00m \u001b[38;5;129;01mnot\u001b[39;00m \u001b[38;5;28;01mNone\u001b[39;00m \u001b[38;5;28;01melse\u001b[39;00m {}), \u001b[38;5;241m*\u001b[39m\u001b[38;5;241m*\u001b[39mkwargs)\n\u001b[0;32m   2840\u001b[0m     sci(__ret)\n\u001b[0;32m   2841\u001b[0m     \u001b[38;5;28;01mreturn\u001b[39;00m __ret\n",
      "File \u001b[1;32m~\\anaconda3\\lib\\site-packages\\matplotlib\\__init__.py:1442\u001b[0m, in \u001b[0;36m_preprocess_data.<locals>.inner\u001b[1;34m(ax, data, *args, **kwargs)\u001b[0m\n\u001b[0;32m   1439\u001b[0m \u001b[38;5;129m@functools\u001b[39m\u001b[38;5;241m.\u001b[39mwraps(func)\n\u001b[0;32m   1440\u001b[0m \u001b[38;5;28;01mdef\u001b[39;00m \u001b[38;5;21minner\u001b[39m(ax, \u001b[38;5;241m*\u001b[39margs, data\u001b[38;5;241m=\u001b[39m\u001b[38;5;28;01mNone\u001b[39;00m, \u001b[38;5;241m*\u001b[39m\u001b[38;5;241m*\u001b[39mkwargs):\n\u001b[0;32m   1441\u001b[0m     \u001b[38;5;28;01mif\u001b[39;00m data \u001b[38;5;129;01mis\u001b[39;00m \u001b[38;5;28;01mNone\u001b[39;00m:\n\u001b[1;32m-> 1442\u001b[0m         \u001b[38;5;28;01mreturn\u001b[39;00m func(ax, \u001b[38;5;241m*\u001b[39m\u001b[38;5;28mmap\u001b[39m(sanitize_sequence, args), \u001b[38;5;241m*\u001b[39m\u001b[38;5;241m*\u001b[39mkwargs)\n\u001b[0;32m   1444\u001b[0m     bound \u001b[38;5;241m=\u001b[39m new_sig\u001b[38;5;241m.\u001b[39mbind(ax, \u001b[38;5;241m*\u001b[39margs, \u001b[38;5;241m*\u001b[39m\u001b[38;5;241m*\u001b[39mkwargs)\n\u001b[0;32m   1445\u001b[0m     auto_label \u001b[38;5;241m=\u001b[39m (bound\u001b[38;5;241m.\u001b[39marguments\u001b[38;5;241m.\u001b[39mget(label_namer)\n\u001b[0;32m   1446\u001b[0m                   \u001b[38;5;129;01mor\u001b[39;00m bound\u001b[38;5;241m.\u001b[39mkwargs\u001b[38;5;241m.\u001b[39mget(label_namer))\n",
      "File \u001b[1;32m~\\anaconda3\\lib\\site-packages\\matplotlib\\axes\\_axes.py:4584\u001b[0m, in \u001b[0;36mAxes.scatter\u001b[1;34m(self, x, y, s, c, marker, cmap, norm, vmin, vmax, alpha, linewidths, edgecolors, plotnonfinite, **kwargs)\u001b[0m\n\u001b[0;32m   4582\u001b[0m y \u001b[38;5;241m=\u001b[39m np\u001b[38;5;241m.\u001b[39mma\u001b[38;5;241m.\u001b[39mravel(y)\n\u001b[0;32m   4583\u001b[0m \u001b[38;5;28;01mif\u001b[39;00m x\u001b[38;5;241m.\u001b[39msize \u001b[38;5;241m!=\u001b[39m y\u001b[38;5;241m.\u001b[39msize:\n\u001b[1;32m-> 4584\u001b[0m     \u001b[38;5;28;01mraise\u001b[39;00m \u001b[38;5;167;01mValueError\u001b[39;00m(\u001b[38;5;124m\"\u001b[39m\u001b[38;5;124mx and y must be the same size\u001b[39m\u001b[38;5;124m\"\u001b[39m)\n\u001b[0;32m   4586\u001b[0m \u001b[38;5;28;01mif\u001b[39;00m s \u001b[38;5;129;01mis\u001b[39;00m \u001b[38;5;28;01mNone\u001b[39;00m:\n\u001b[0;32m   4587\u001b[0m     s \u001b[38;5;241m=\u001b[39m (\u001b[38;5;241m20\u001b[39m \u001b[38;5;28;01mif\u001b[39;00m mpl\u001b[38;5;241m.\u001b[39mrcParams[\u001b[38;5;124m'\u001b[39m\u001b[38;5;124m_internal.classic_mode\u001b[39m\u001b[38;5;124m'\u001b[39m] \u001b[38;5;28;01melse\u001b[39;00m\n\u001b[0;32m   4588\u001b[0m          mpl\u001b[38;5;241m.\u001b[39mrcParams[\u001b[38;5;124m'\u001b[39m\u001b[38;5;124mlines.markersize\u001b[39m\u001b[38;5;124m'\u001b[39m] \u001b[38;5;241m*\u001b[39m\u001b[38;5;241m*\u001b[39m \u001b[38;5;241m2.0\u001b[39m)\n",
      "\u001b[1;31mValueError\u001b[0m: x and y must be the same size"
     ]
    },
    {
     "data": {
      "image/png": "[encoded data removed]",
      "text/plain": [
       "<Figure size 1200x600 with 1 Axes>"
      ]
     },
     "metadata": {},
     "output_type": "display_data"
    }
   ],
   "source": [
    "plt.scatter(X_train,y_train, color='blue') # 산점도 그래프 -> 실제 값?\n",
    "plt.plot(X_train, reg.predict(X_train), color='green')  # 선 그래프  -> 예측 값?\n",
    "plt.title('하이닉스 BY 삼성전자(train data)')\n",
    "plt.xlabel('삼성전자')\n",
    "plt.ylabel('하이닉스')\n",
    "plt.show()"
   ]
  },
  {
   "cell_type": "code",
   "execution_count": null,
   "id": "248713ac",
   "metadata": {},
   "outputs": [],
   "source": [
    "plt.scatter(X_test,y_test, color='blue') # 산점도 그래프\n",
    "plt.plot(X_train, reg.predict(X_train), color='green')  # 선 그래프 \n",
    "plt.title('하이닉스 BY 삼성전자(train data)')\n",
    "plt.xlabel('삼성전자')\n",
    "plt.ylabel('하이닉스')\n",
    "plt.show()"
   ]
  },
  {
   "cell_type": "code",
   "execution_count": null,
   "id": "60283b07",
   "metadata": {},
   "outputs": [],
   "source": [
    "reg.coef_, reg.intercept_"
   ]
  },
  {
   "cell_type": "markdown",
   "id": "8d0bc336",
   "metadata": {},
   "source": [
    "### 모델평가"
   ]
  },
  {
   "cell_type": "code",
   "execution_count": null,
   "id": "41aaad4c",
   "metadata": {},
   "outputs": [],
   "source": [
    "reg.score(X_train, y_train)"
   ]
  },
  {
   "cell_type": "code",
   "execution_count": null,
   "id": "a10f86f1",
   "metadata": {},
   "outputs": [],
   "source": [
    "reg.score(X_test, y_test)"
   ]
  },
  {
   "cell_type": "markdown",
   "id": "60972b8f",
   "metadata": {},
   "source": [
    "### 경사하강법"
   ]
  },
  {
   "cell_type": "code",
   "execution_count": null,
   "id": "b5064e30",
   "metadata": {},
   "outputs": [],
   "source": [
    "from sklearn.linear_model import SGDRegressor # SGF 확률적 경사하강법 \n",
    "#지수 표기법\n",
    "#1e-3 = 0.001 10^-3\n",
    "#1e-4 = 0.0001 10^-4\n",
    "#1e+3 = 1000 10^3\n",
    "#1e+4 = 10000 10^4\n",
    "\n",
    "\n",
    "# sr = SGDRegressor()\n",
    "sr = SGDRegressor(max_iter=1000, eta0=1e-4, random_state=0, verbose=1)  #에포크 방식\n",
    "sr.fit(X_train, y_train)"
   ]
  },
  {
   "cell_type": "code",
   "execution_count": null,
   "id": "5ec0fee4",
   "metadata": {},
   "outputs": [],
   "source": [
    "plt.scatter(X_test,y_test, color='blue') # 산점도 그래프\n",
    "plt.plot(X_train, sr.predict(X_train), color='green')  # 선 그래프 \n",
    "plt.title('하이닉스 BY 삼성전자(train data)')\n",
    "plt.xlabel('삼성전자')\n",
    "plt.ylabel('하이닉스')\n",
    "plt.show()"
   ]
  },
  {
   "cell_type": "code",
   "execution_count": null,
   "id": "43eb1cb2",
   "metadata": {},
   "outputs": [],
   "source": [
    "sr.coef_, sr.intercept_"
   ]
  },
  {
   "cell_type": "code",
   "execution_count": null,
   "id": "44d02abe",
   "metadata": {},
   "outputs": [],
   "source": [
    "sr.score(X_test, y_test) # 테스트 세트를 통한 모델평가"
   ]
  },
  {
   "cell_type": "code",
   "execution_count": null,
   "id": "80b62bf3",
   "metadata": {},
   "outputs": [],
   "source": [
    "sr.score(X_train, y_train) # 룬련 세트를 통한 모델평가"
   ]
  },
  {
   "cell_type": "code",
   "execution_count": null,
   "id": "91472024",
   "metadata": {},
   "outputs": [],
   "source": []
  }
 ],
 "metadata": {
  "kernelspec": {
   "display_name": "Python 3 (ipykernel)",
   "language": "python",
   "name": "python3"
  },
  "language_info": {
   "codemirror_mode": {
    "name": "ipython",
    "version": 3
   },
   "file_extension": ".py",
   "mimetype": "text/x-python",
   "name": "python",
   "nbconvert_exporter": "python",
   "pygments_lexer": "ipython3",
   "version": "3.10.9"
  }
 },
 "nbformat": 4,
 "nbformat_minor": 5
}
