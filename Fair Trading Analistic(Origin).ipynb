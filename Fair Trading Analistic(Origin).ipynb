{
 "cells": [
  {
   "cell_type": "code",
   "execution_count": 1,
   "id": "c5b6146d",
   "metadata": {},
   "outputs": [],
   "source": [
    "# matplotlib rebuild\n",
    "import matplotlib as mpl\n",
    "import FinanceDataReader as fdr\n",
    "\n",
    "# mpl.font_manager._rebuild()\n",
    "\n",
    "# matplotlib 환경 설정\n",
    "import matplotlib.pyplot as plt\n",
    "mpl.rcParams['font.family'] = 'Malgun Gothic' # window\n",
    "plt.rcParams[\"axes.grid\"] = True\n",
    "plt.rcParams[\"figure.figsize\"] = (12,6)\n",
    "plt.rcParams[\"axes.formatter.useoffset\"] = False\n",
    "plt.rcParams['axes.unicode_minus'] = False\n",
    "plt.rcParams[\"axes.formatter.limits\"] = -10000, 10000\n"
   ]
  },
  {
   "cell_type": "markdown",
   "id": "13e7a353",
   "metadata": {},
   "source": [
    "## 데이터 가져오기"
   ]
  },
  {
   "cell_type": "code",
   "execution_count": 19,
   "id": "f9524f72",
   "metadata": {},
   "outputs": [],
   "source": [
    "# stock_list = [\n",
    "#   [\"삼성전자\", \"005930\"],\n",
    "#   [\"SK하이닉스\", \"000660\"],\n",
    "#   [\"현대차\", \"005380\"],\n",
    "#   [\"셀트리온\", \"068270\"],\n",
    "#   [\"LG화학\", \"051910\"],\n",
    "#   [\"POSCO\", \"005490\"],\n",
    "#   [\"삼성물산\", \"028260\"],\n",
    "#   [\"NAVER\", \"035420\"],\n",
    "# ] \n",
    "stock_list = [\n",
    "  ['AAPL','AAPL'],\n",
    "  ['MSFT','MSFT'],\n",
    "  ['NVDA','NVDA'],\n",
    "  ['META','META'],\n",
    "] "
   ]
  },
  {
   "cell_type": "code",
   "execution_count": 20,
   "id": "5dab38c5",
   "metadata": {},
   "outputs": [
    {
     "data": {
      "text/plain": [
       "[['AAPL', 'AAPL'], ['MSFT', 'MSFT'], ['NVDA', 'NVDA'], ['META', 'META']]"
      ]
     },
     "execution_count": 20,
     "metadata": {},
     "output_type": "execute_result"
    }
   ],
   "source": [
    "stock_list"
   ]
  },
  {
   "cell_type": "code",
   "execution_count": null,
   "id": "d7493002",
   "metadata": {},
   "outputs": [],
   "source": [
    "df_apple = fdr.DataReader('AAPL', '2020')\n",
    "df_apple['Close'].tail()"
   ]
  },
  {
   "cell_type": "code",
   "execution_count": null,
   "id": "bbf50751",
   "metadata": {},
   "outputs": [],
   "source": [
    "df_nvda = fdr.DataReader('NVDA', '2020')\n",
    "df_nvda['Close'].tail()"
   ]
  },
  {
   "cell_type": "code",
   "execution_count": null,
   "id": "8da74085",
   "metadata": {},
   "outputs": [],
   "source": [
    "df_tsla = fdr.DataReader('TSLA', '2020')\n",
    "df_tsla['Close'].tail()"
   ]
  },
  {
   "cell_type": "code",
   "execution_count": null,
   "id": "8e39c471",
   "metadata": {},
   "outputs": [],
   "source": [
    "df_msft = fdr.DataReader('MSFT', '2020')\n",
    "df_msft['Close'].tail()"
   ]
  },
  {
   "cell_type": "code",
   "execution_count": null,
   "id": "661df909",
   "metadata": {},
   "outputs": [],
   "source": [
    "df_amzn = fdr.DataReader('AMZN', '2020')\n",
    "df_amzn['Close'].tail()"
   ]
  },
  {
   "cell_type": "code",
   "execution_count": null,
   "id": "abcfefd8",
   "metadata": {},
   "outputs": [],
   "source": [
    "df_googl = fdr.DataReader('GOOGL', '2020')\n",
    "df_googl['Close'].tail()"
   ]
  },
  {
   "cell_type": "code",
   "execution_count": null,
   "id": "988fabc4",
   "metadata": {},
   "outputs": [],
   "source": [
    "df_samsung = fdr.DataReader('005930', '2020')\n",
    "df_samsung['Close'].tail()"
   ]
  },
  {
   "cell_type": "code",
   "execution_count": null,
   "id": "0ea759f4",
   "metadata": {},
   "outputs": [],
   "source": [
    "df_lge = fdr.DataReader('373220', '2020')\n",
    "df_lge['Close'].tail()"
   ]
  },
  {
   "cell_type": "code",
   "execution_count": null,
   "id": "624d0836",
   "metadata": {},
   "outputs": [],
   "source": [
    "df_hynx = fdr.DataReader('000660', '2020')\n",
    "df_hynx['Close'].tail()"
   ]
  },
  {
   "cell_type": "code",
   "execution_count": 21,
   "id": "83607159",
   "metadata": {},
   "outputs": [
    {
     "data": {
      "text/plain": [
       "4"
      ]
     },
     "execution_count": 21,
     "metadata": {},
     "output_type": "execute_result"
    }
   ],
   "source": [
    "import pandas as pd\n",
    "\n",
    "df_list = [fdr.DataReader(code, '2020-01-01', '2023-06-23')for name, code in stock_list]\n",
    "len(df_list)"
   ]
  },
  {
   "cell_type": "code",
   "execution_count": 22,
   "id": "98be1b41",
   "metadata": {
    "collapsed": true
   },
   "outputs": [
    {
     "data": {
      "text/plain": [
       "[                  Open        High         Low       Close   Adj Close  \\\n",
       " Date                                                                     \n",
       " 2020-01-02   74.059998   75.150002   73.797501   75.087502   73.347931   \n",
       " 2020-01-03   74.287498   75.144997   74.125000   74.357498   72.634850   \n",
       " 2020-01-06   73.447502   74.989998   73.187500   74.949997   73.213615   \n",
       " 2020-01-07   74.959999   75.224998   74.370003   74.597504   72.869286   \n",
       " 2020-01-08   74.290001   76.110001   74.290001   75.797501   74.041481   \n",
       " ...                ...         ...         ...         ...         ...   \n",
       " 2023-06-15  183.960007  186.520004  183.779999  186.009995  186.009995   \n",
       " 2023-06-16  186.729996  186.990005  184.270004  184.919998  184.919998   \n",
       " 2023-06-20  184.410004  186.100006  184.410004  185.009995  185.009995   \n",
       " 2023-06-21  184.899994  185.410004  182.589996  183.960007  183.960007   \n",
       " 2023-06-22  183.740005  187.050003  183.669998  187.000000  187.000000   \n",
       " \n",
       "                Volume  \n",
       " Date                   \n",
       " 2020-01-02  135480400  \n",
       " 2020-01-03  146322800  \n",
       " 2020-01-06  118387200  \n",
       " 2020-01-07  108872000  \n",
       " 2020-01-08  132079200  \n",
       " ...               ...  \n",
       " 2023-06-15   65433200  \n",
       " 2023-06-16  101235600  \n",
       " 2023-06-20   49799100  \n",
       " 2023-06-21   49515700  \n",
       " 2023-06-22   51245300  \n",
       " \n",
       " [874 rows x 6 columns],\n",
       "                   Open        High         Low       Close   Adj Close  \\\n",
       " Date                                                                     \n",
       " 2020-01-02  158.779999  160.729996  158.330002  160.619995  155.422043   \n",
       " 2020-01-03  158.320007  159.949997  158.059998  158.619995  153.486755   \n",
       " 2020-01-06  157.080002  159.100006  156.509995  159.029999  153.883469   \n",
       " 2020-01-07  159.320007  159.669998  157.320007  157.580002  152.480423   \n",
       " 2020-01-08  158.929993  160.800003  157.949997  160.089996  154.909210   \n",
       " ...                ...         ...         ...         ...         ...   \n",
       " 2023-06-15  337.480011  349.839996  337.200012  348.100006  348.100006   \n",
       " 2023-06-16  351.320007  351.470001  341.950012  342.329987  342.329987   \n",
       " 2023-06-20  339.309998  342.079987  335.859985  338.049988  338.049988   \n",
       " 2023-06-21  336.369995  337.730011  332.070007  333.559998  333.559998   \n",
       " 2023-06-22  334.119995  340.119995  333.339996  339.709991  339.709991   \n",
       " \n",
       "               Volume  \n",
       " Date                  \n",
       " 2020-01-02  22622100  \n",
       " 2020-01-03  21116200  \n",
       " 2020-01-06  20813700  \n",
       " 2020-01-07  21634100  \n",
       " 2020-01-08  27746500  \n",
       " ...              ...  \n",
       " 2023-06-15  38899100  \n",
       " 2023-06-16  46533600  \n",
       " 2023-06-20  26375400  \n",
       " 2023-06-21  25117800  \n",
       " 2023-06-22  23556800  \n",
       " \n",
       " [874 rows x 6 columns],\n",
       "                   Open        High         Low       Close   Adj Close  \\\n",
       " Date                                                                     \n",
       " 2020-01-02   59.687500   59.977501   59.180000   59.977501   59.754227   \n",
       " 2020-01-03   58.775002   59.457500   58.525002   59.017502   58.797798   \n",
       " 2020-01-06   58.080002   59.317501   57.817501   59.264999   59.044365   \n",
       " 2020-01-07   59.549999   60.442501   59.097500   59.982498   59.759190   \n",
       " 2020-01-08   59.939999   60.509998   59.537498   60.095001   59.871281   \n",
       " ...                ...         ...         ...         ...         ...   \n",
       " 2023-06-15  426.019989  432.890015  421.470001  426.529999  426.529999   \n",
       " 2023-06-16  434.500000  437.209991  426.609985  426.920013  426.920013   \n",
       " 2023-06-20  429.980011  439.899994  426.739990  438.079987  438.079987   \n",
       " 2023-06-21  435.010010  436.149994  420.799988  430.450012  430.450012   \n",
       " 2023-06-22  422.529999  434.260010  422.339996  430.250000  430.250000   \n",
       " \n",
       "               Volume  \n",
       " Date                  \n",
       " 2020-01-02  23753600  \n",
       " 2020-01-03  20538400  \n",
       " 2020-01-06  26263600  \n",
       " 2020-01-07  31485600  \n",
       " 2020-01-08  27710800  \n",
       " ...              ...  \n",
       " 2023-06-15  56862200  \n",
       " 2023-06-16  65475500  \n",
       " 2023-06-20  45115300  \n",
       " 2023-06-21  55160300  \n",
       " 2023-06-22  41773700  \n",
       " \n",
       " [874 rows x 6 columns],\n",
       "                   Open        High         Low       Close   Adj Close  \\\n",
       " Date                                                                     \n",
       " 2020-01-02  206.750000  209.789993  206.270004  209.779999  209.779999   \n",
       " 2020-01-03  207.210007  210.399994  206.949997  208.669998  208.669998   \n",
       " 2020-01-06  206.699997  212.779999  206.520004  212.600006  212.600006   \n",
       " 2020-01-07  212.820007  214.580002  211.750000  213.059998  213.059998   \n",
       " 2020-01-08  213.000000  216.240005  212.610001  215.220001  215.220001   \n",
       " ...                ...         ...         ...         ...         ...   \n",
       " 2023-06-15  272.299988  283.989990  271.420013  281.829987  281.829987   \n",
       " 2023-06-16  284.750000  287.850006  280.130005  281.000000  281.000000   \n",
       " 2023-06-20  278.730011  284.799988  276.220001  284.329987  284.329987   \n",
       " 2023-06-21  283.529999  284.000000  278.359985  281.640015  281.640015   \n",
       " 2023-06-22  279.079987  285.260010  277.790009  284.880005  284.880005   \n",
       " \n",
       "               Volume  \n",
       " Date                  \n",
       " 2020-01-02  12077100  \n",
       " 2020-01-03  11188400  \n",
       " 2020-01-06  17058900  \n",
       " 2020-01-07  14912400  \n",
       " 2020-01-08  13475000  \n",
       " ...              ...  \n",
       " 2023-06-15  25973500  \n",
       " 2023-06-16  43102500  \n",
       " 2023-06-20  20701600  \n",
       " 2023-06-21  20556200  \n",
       " 2023-06-22  17563100  \n",
       " \n",
       " [874 rows x 6 columns]]"
      ]
     },
     "execution_count": 22,
     "metadata": {},
     "output_type": "execute_result"
    }
   ],
   "source": [
    "df_list"
   ]
  },
  {
   "cell_type": "code",
   "execution_count": 23,
   "id": "eccfbc2f",
   "metadata": {},
   "outputs": [
    {
     "data": {
      "text/plain": [
       "4"
      ]
     },
     "execution_count": 23,
     "metadata": {},
     "output_type": "execute_result"
    }
   ],
   "source": [
    "import pandas as pd\n",
    "\n",
    "df_list = [fdr.DataReader(code, '2020-01-01', '2023-06-23')['Close'] for name, code in stock_list]\n",
    "len(df_list)"
   ]
  },
  {
   "cell_type": "code",
   "execution_count": 24,
   "id": "347f48aa",
   "metadata": {
    "collapsed": true
   },
   "outputs": [
    {
     "data": {
      "text/plain": [
       "[Date\n",
       " 2020-01-02     75.087502\n",
       " 2020-01-03     74.357498\n",
       " 2020-01-06     74.949997\n",
       " 2020-01-07     74.597504\n",
       " 2020-01-08     75.797501\n",
       "                  ...    \n",
       " 2023-06-15    186.009995\n",
       " 2023-06-16    184.919998\n",
       " 2023-06-20    185.009995\n",
       " 2023-06-21    183.960007\n",
       " 2023-06-22    187.000000\n",
       " Name: Close, Length: 874, dtype: float64,\n",
       " Date\n",
       " 2020-01-02    160.619995\n",
       " 2020-01-03    158.619995\n",
       " 2020-01-06    159.029999\n",
       " 2020-01-07    157.580002\n",
       " 2020-01-08    160.089996\n",
       "                  ...    \n",
       " 2023-06-15    348.100006\n",
       " 2023-06-16    342.329987\n",
       " 2023-06-20    338.049988\n",
       " 2023-06-21    333.559998\n",
       " 2023-06-22    339.709991\n",
       " Name: Close, Length: 874, dtype: float64,\n",
       " Date\n",
       " 2020-01-02     59.977501\n",
       " 2020-01-03     59.017502\n",
       " 2020-01-06     59.264999\n",
       " 2020-01-07     59.982498\n",
       " 2020-01-08     60.095001\n",
       "                  ...    \n",
       " 2023-06-15    426.529999\n",
       " 2023-06-16    426.920013\n",
       " 2023-06-20    438.079987\n",
       " 2023-06-21    430.450012\n",
       " 2023-06-22    430.250000\n",
       " Name: Close, Length: 874, dtype: float64,\n",
       " Date\n",
       " 2020-01-02    209.779999\n",
       " 2020-01-03    208.669998\n",
       " 2020-01-06    212.600006\n",
       " 2020-01-07    213.059998\n",
       " 2020-01-08    215.220001\n",
       "                  ...    \n",
       " 2023-06-15    281.829987\n",
       " 2023-06-16    281.000000\n",
       " 2023-06-20    284.329987\n",
       " 2023-06-21    281.640015\n",
       " 2023-06-22    284.880005\n",
       " Name: Close, Length: 874, dtype: float64]"
      ]
     },
     "execution_count": 24,
     "metadata": {},
     "output_type": "execute_result"
    }
   ],
   "source": [
    "df_list"
   ]
  },
  {
   "cell_type": "code",
   "execution_count": null,
   "id": "7e630782",
   "metadata": {},
   "outputs": [],
   "source": [
    "# # 068270 가져와서 바로 종가차트\n",
    "# df_ = fdr.DataReader('005930', '2020')\n",
    "# df['Close'].plot()"
   ]
  },
  {
   "cell_type": "code",
   "execution_count": null,
   "id": "9743076b",
   "metadata": {},
   "outputs": [],
   "source": []
  },
  {
   "cell_type": "code",
   "execution_count": 25,
   "id": "f6ea7722",
   "metadata": {
    "collapsed": true
   },
   "outputs": [
    {
     "data": {
      "text/html": [
       "<div>\n",
       "<style scoped>\n",
       "    .dataframe tbody tr th:only-of-type {\n",
       "        vertical-align: middle;\n",
       "    }\n",
       "\n",
       "    .dataframe tbody tr th {\n",
       "        vertical-align: top;\n",
       "    }\n",
       "\n",
       "    .dataframe thead th {\n",
       "        text-align: right;\n",
       "    }\n",
       "</style>\n",
       "<table border=\"1\" class=\"dataframe\">\n",
       "  <thead>\n",
       "    <tr style=\"text-align: right;\">\n",
       "      <th></th>\n",
       "      <th>AAPL</th>\n",
       "      <th>MSFT</th>\n",
       "      <th>NVDA</th>\n",
       "      <th>META</th>\n",
       "    </tr>\n",
       "    <tr>\n",
       "      <th>Date</th>\n",
       "      <th></th>\n",
       "      <th></th>\n",
       "      <th></th>\n",
       "      <th></th>\n",
       "    </tr>\n",
       "  </thead>\n",
       "  <tbody>\n",
       "    <tr>\n",
       "      <th>2023-05-24</th>\n",
       "      <td>171.839996</td>\n",
       "      <td>313.850006</td>\n",
       "      <td>305.380005</td>\n",
       "      <td>249.210007</td>\n",
       "    </tr>\n",
       "    <tr>\n",
       "      <th>2023-05-25</th>\n",
       "      <td>172.990005</td>\n",
       "      <td>325.920013</td>\n",
       "      <td>379.799988</td>\n",
       "      <td>252.690002</td>\n",
       "    </tr>\n",
       "    <tr>\n",
       "      <th>2023-05-26</th>\n",
       "      <td>175.429993</td>\n",
       "      <td>332.890015</td>\n",
       "      <td>389.459991</td>\n",
       "      <td>262.040009</td>\n",
       "    </tr>\n",
       "    <tr>\n",
       "      <th>2023-05-30</th>\n",
       "      <td>177.300003</td>\n",
       "      <td>331.209991</td>\n",
       "      <td>401.109985</td>\n",
       "      <td>262.519989</td>\n",
       "    </tr>\n",
       "    <tr>\n",
       "      <th>2023-05-31</th>\n",
       "      <td>177.250000</td>\n",
       "      <td>328.390015</td>\n",
       "      <td>378.339996</td>\n",
       "      <td>264.720001</td>\n",
       "    </tr>\n",
       "    <tr>\n",
       "      <th>2023-06-01</th>\n",
       "      <td>180.089996</td>\n",
       "      <td>332.579987</td>\n",
       "      <td>397.700012</td>\n",
       "      <td>272.609985</td>\n",
       "    </tr>\n",
       "    <tr>\n",
       "      <th>2023-06-02</th>\n",
       "      <td>180.949997</td>\n",
       "      <td>335.399994</td>\n",
       "      <td>393.269989</td>\n",
       "      <td>272.609985</td>\n",
       "    </tr>\n",
       "    <tr>\n",
       "      <th>2023-06-05</th>\n",
       "      <td>179.580002</td>\n",
       "      <td>335.940002</td>\n",
       "      <td>391.709991</td>\n",
       "      <td>271.390015</td>\n",
       "    </tr>\n",
       "    <tr>\n",
       "      <th>2023-06-06</th>\n",
       "      <td>179.210007</td>\n",
       "      <td>333.679993</td>\n",
       "      <td>386.540009</td>\n",
       "      <td>271.119995</td>\n",
       "    </tr>\n",
       "    <tr>\n",
       "      <th>2023-06-07</th>\n",
       "      <td>177.820007</td>\n",
       "      <td>323.380005</td>\n",
       "      <td>374.750000</td>\n",
       "      <td>263.600006</td>\n",
       "    </tr>\n",
       "    <tr>\n",
       "      <th>2023-06-08</th>\n",
       "      <td>180.570007</td>\n",
       "      <td>325.260010</td>\n",
       "      <td>385.100006</td>\n",
       "      <td>264.579987</td>\n",
       "    </tr>\n",
       "    <tr>\n",
       "      <th>2023-06-09</th>\n",
       "      <td>180.960007</td>\n",
       "      <td>326.790009</td>\n",
       "      <td>387.700012</td>\n",
       "      <td>264.950012</td>\n",
       "    </tr>\n",
       "    <tr>\n",
       "      <th>2023-06-12</th>\n",
       "      <td>183.789993</td>\n",
       "      <td>331.850006</td>\n",
       "      <td>394.820007</td>\n",
       "      <td>271.049988</td>\n",
       "    </tr>\n",
       "    <tr>\n",
       "      <th>2023-06-13</th>\n",
       "      <td>183.309998</td>\n",
       "      <td>334.290009</td>\n",
       "      <td>410.220001</td>\n",
       "      <td>271.320007</td>\n",
       "    </tr>\n",
       "    <tr>\n",
       "      <th>2023-06-14</th>\n",
       "      <td>183.949997</td>\n",
       "      <td>337.339996</td>\n",
       "      <td>429.970001</td>\n",
       "      <td>273.350006</td>\n",
       "    </tr>\n",
       "    <tr>\n",
       "      <th>2023-06-15</th>\n",
       "      <td>186.009995</td>\n",
       "      <td>348.100006</td>\n",
       "      <td>426.529999</td>\n",
       "      <td>281.829987</td>\n",
       "    </tr>\n",
       "    <tr>\n",
       "      <th>2023-06-16</th>\n",
       "      <td>184.919998</td>\n",
       "      <td>342.329987</td>\n",
       "      <td>426.920013</td>\n",
       "      <td>281.000000</td>\n",
       "    </tr>\n",
       "    <tr>\n",
       "      <th>2023-06-20</th>\n",
       "      <td>185.009995</td>\n",
       "      <td>338.049988</td>\n",
       "      <td>438.079987</td>\n",
       "      <td>284.329987</td>\n",
       "    </tr>\n",
       "    <tr>\n",
       "      <th>2023-06-21</th>\n",
       "      <td>183.960007</td>\n",
       "      <td>333.559998</td>\n",
       "      <td>430.450012</td>\n",
       "      <td>281.640015</td>\n",
       "    </tr>\n",
       "    <tr>\n",
       "      <th>2023-06-22</th>\n",
       "      <td>187.000000</td>\n",
       "      <td>339.709991</td>\n",
       "      <td>430.250000</td>\n",
       "      <td>284.880005</td>\n",
       "    </tr>\n",
       "  </tbody>\n",
       "</table>\n",
       "</div>"
      ],
      "text/plain": [
       "                  AAPL        MSFT        NVDA        META\n",
       "Date                                                      \n",
       "2023-05-24  171.839996  313.850006  305.380005  249.210007\n",
       "2023-05-25  172.990005  325.920013  379.799988  252.690002\n",
       "2023-05-26  175.429993  332.890015  389.459991  262.040009\n",
       "2023-05-30  177.300003  331.209991  401.109985  262.519989\n",
       "2023-05-31  177.250000  328.390015  378.339996  264.720001\n",
       "2023-06-01  180.089996  332.579987  397.700012  272.609985\n",
       "2023-06-02  180.949997  335.399994  393.269989  272.609985\n",
       "2023-06-05  179.580002  335.940002  391.709991  271.390015\n",
       "2023-06-06  179.210007  333.679993  386.540009  271.119995\n",
       "2023-06-07  177.820007  323.380005  374.750000  263.600006\n",
       "2023-06-08  180.570007  325.260010  385.100006  264.579987\n",
       "2023-06-09  180.960007  326.790009  387.700012  264.950012\n",
       "2023-06-12  183.789993  331.850006  394.820007  271.049988\n",
       "2023-06-13  183.309998  334.290009  410.220001  271.320007\n",
       "2023-06-14  183.949997  337.339996  429.970001  273.350006\n",
       "2023-06-15  186.009995  348.100006  426.529999  281.829987\n",
       "2023-06-16  184.919998  342.329987  426.920013  281.000000\n",
       "2023-06-20  185.009995  338.049988  438.079987  284.329987\n",
       "2023-06-21  183.960007  333.559998  430.450012  281.640015\n",
       "2023-06-22  187.000000  339.709991  430.250000  284.880005"
      ]
     },
     "execution_count": 25,
     "metadata": {},
     "output_type": "execute_result"
    }
   ],
   "source": [
    "# pd.concat()로 합치기\n",
    "\n",
    "df = pd.concat(df_list, axis=1)\n",
    "df.columns = [name for name, code in stock_list] \n",
    "df.tail(20)"
   ]
  },
  {
   "cell_type": "markdown",
   "id": "4ae86ef3",
   "metadata": {},
   "source": [
    "## 데이터 시각화"
   ]
  },
  {
   "cell_type": "code",
   "execution_count": 26,
   "id": "87fae8cb",
   "metadata": {
    "scrolled": false
   },
   "outputs": [
    {
     "data": {
      "text/plain": [
       "<Axes: xlabel='Date'>"
      ]
     },
     "execution_count": 26,
     "metadata": {},
     "output_type": "execute_result"
    },
    {
     "data": {
      "image/png": "[encoded data removed]",
      "text/plain": [
       "<Figure size 1200x600 with 1 Axes>"
      ]
     },
     "metadata": {},
     "output_type": "display_data"
    }
   ],
   "source": [
    "df.plot()"
   ]
  },
  {
   "cell_type": "markdown",
   "id": "b48fe9e8",
   "metadata": {},
   "source": [
    "## y 보조축 만들기"
   ]
  },
  {
   "cell_type": "code",
   "execution_count": null,
   "id": "387eadb3",
   "metadata": {},
   "outputs": [],
   "source": [
    "df[['LG화학', '삼성전자']].plot(secondary_y=['LG화학'])"
   ]
  },
  {
   "cell_type": "markdown",
   "id": "923bb1bf",
   "metadata": {},
   "source": [
    "## 비교를 위해 데이터 정규화\n",
    "- 전체 데이터를 첫번째 row로 나누고 -1.0"
   ]
  },
  {
   "cell_type": "code",
   "execution_count": null,
   "id": "48b7c026",
   "metadata": {},
   "outputs": [],
   "source": [
    "df2 = df[['LG화학', '삼성전자']]\n",
    "\n",
    "df_plot = df2 / df2.iloc[0] - 1.0\n",
    "df_plot.plot()"
   ]
  },
  {
   "cell_type": "markdown",
   "id": "7a003482",
   "metadata": {},
   "source": [
    "## 여러 종목 정규화 및 비교 차트"
   ]
  },
  {
   "cell_type": "code",
   "execution_count": null,
   "id": "ee8b49f7",
   "metadata": {},
   "outputs": [],
   "source": [
    "df_norm = df / df.iloc[0] - 1\n",
    "df_norm.plot()"
   ]
  },
  {
   "cell_type": "code",
   "execution_count": null,
   "id": "bb6ba12f",
   "metadata": {
    "scrolled": true
   },
   "outputs": [],
   "source": [
    "df_norm.iloc[-1].sort_values(ascending=False)"
   ]
  },
  {
   "cell_type": "markdown",
   "id": "f21a0ed0",
   "metadata": {},
   "source": [
    "## 회귀분석 하기\n",
    "- 상관관계를 분석해서 업종 지수에 대한 비교 및 특정 종목이 따라가지 못 하는 경우 내.외부 요인 판단 가능"
   ]
  },
  {
   "cell_type": "code",
   "execution_count": null,
   "id": "4bd1028a",
   "metadata": {},
   "outputs": [],
   "source": [
    "from sklearn.linear_model import LinearRegression #sklearn 싸이킷런에서 회귀모델을 가져오겠다."
   ]
  },
  {
   "cell_type": "code",
   "execution_count": null,
   "id": "d16b45a2",
   "metadata": {},
   "outputs": [],
   "source": [
    "X = df.iloc[:,:1].values # 삼성전자\n",
    "y = df.iloc[:,-7].values #sk 하이닉스\n",
    "X,y"
   ]
  },
  {
   "cell_type": "code",
   "execution_count": null,
   "id": "be0a92ab",
   "metadata": {},
   "outputs": [],
   "source": [
    "reg = LinearRegression() # 객체 생성\n",
    "reg.fit(X,y) # fit이 학습모델 -> 학습하면서 모델생성"
   ]
  },
  {
   "cell_type": "code",
   "execution_count": null,
   "id": "43871d98",
   "metadata": {},
   "outputs": [],
   "source": [
    "y_pred = reg.predict(X) # X에 대한 예측 값\n",
    "y_pred"
   ]
  },
  {
   "cell_type": "code",
   "execution_count": null,
   "id": "0c7042b7",
   "metadata": {},
   "outputs": [],
   "source": [
    "plt.scatter(X,y, color='blue') # 산점도 그래프 (실제 값 그래프)\n",
    "plt.plot(X, y_pred, color='green')  # 선 그래프 (싸이킷런에서 회귀모델로 학습한 훟 예측한 그래프)\n",
    "plt.title('하이닉스 BY 삼성전자')\n",
    "plt.xlabel('삼성전자')\n",
    "plt.ylabel('SK하이닉스')\n",
    "plt.show()"
   ]
  },
  {
   "cell_type": "code",
   "execution_count": null,
   "id": "2f8153e9",
   "metadata": {},
   "outputs": [],
   "source": [
    "print('삼성전자 가격에 따른 SK하이닉스 예상가격 :', reg.predict([[80000]]))\n",
    "# print('9,8,10시간 공부했을 때 예상 점수 :', reg.predict([[9],[8],[10]]))"
   ]
  },
  {
   "cell_type": "code",
   "execution_count": null,
   "id": "aa01632b",
   "metadata": {},
   "outputs": [],
   "source": [
    "reg.coef_, reg.intercept_"
   ]
  },
  {
   "cell_type": "markdown",
   "id": "b767625c",
   "metadata": {},
   "source": [
    "## 데이터 세트 분리"
   ]
  },
  {
   "cell_type": "code",
   "execution_count": null,
   "id": "7e50d3ea",
   "metadata": {},
   "outputs": [],
   "source": [
    "from sklearn.model_selection import train_test_split  # 데이터 분리는 sklearn.moder_selection 이고 리니어는 sklearn.linear_modeol import LinearRegression\n",
    "X_train, X_test, y_train, y_test = train_test_split(X,y, test_size=0.2, random_state=0)  # 테스트 사이즈를 8:2로 하겠다 test_size = 0.2 random_state = 0 은 그냥 확인용"
   ]
  },
  {
   "cell_type": "code",
   "execution_count": null,
   "id": "2e6c77dc",
   "metadata": {},
   "outputs": [],
   "source": [
    "len(X_train), len(X_test)"
   ]
  },
  {
   "cell_type": "code",
   "execution_count": null,
   "id": "106e5dd1",
   "metadata": {},
   "outputs": [],
   "source": [
    "len(y_train), len(y_test)"
   ]
  },
  {
   "cell_type": "markdown",
   "id": "bd5673c7",
   "metadata": {},
   "source": [
    "### 분리된 데이터를 통해 모델링"
   ]
  },
  {
   "cell_type": "code",
   "execution_count": null,
   "id": "8703bca8",
   "metadata": {},
   "outputs": [],
   "source": [
    "reg = LinearRegression()\n",
    "reg.fit(X_train, y_train) # 훈련세트로 학습"
   ]
  },
  {
   "cell_type": "code",
   "execution_count": null,
   "id": "b9a94053",
   "metadata": {},
   "outputs": [],
   "source": [
    "plt.scatter(X_train,y_train, color='blue') # 산점도 그래프 -> 실제 값?\n",
    "plt.plot(X_train, reg.predict(X_train), color='green')  # 선 그래프  -> 예측 값?\n",
    "plt.title('하이닉스 BY 삼성전자(train data)')\n",
    "plt.xlabel('삼성전자')\n",
    "plt.ylabel('하이닉스')\n",
    "plt.show()"
   ]
  },
  {
   "cell_type": "code",
   "execution_count": null,
   "id": "248713ac",
   "metadata": {},
   "outputs": [],
   "source": [
    "plt.scatter(X_test,y_test, color='blue') # 산점도 그래프\n",
    "plt.plot(X_train, reg.predict(X_train), color='green')  # 선 그래프 \n",
    "plt.title('하이닉스 BY 삼성전자(train data)')\n",
    "plt.xlabel('삼성전자')\n",
    "plt.ylabel('하이닉스')\n",
    "plt.show()"
   ]
  },
  {
   "cell_type": "code",
   "execution_count": null,
   "id": "60283b07",
   "metadata": {},
   "outputs": [],
   "source": [
    "reg.coef_, reg.intercept_"
   ]
  },
  {
   "cell_type": "markdown",
   "id": "8d0bc336",
   "metadata": {},
   "source": [
    "### 모델평가"
   ]
  },
  {
   "cell_type": "code",
   "execution_count": null,
   "id": "41aaad4c",
   "metadata": {},
   "outputs": [],
   "source": [
    "reg.score(X_train, y_train)"
   ]
  },
  {
   "cell_type": "code",
   "execution_count": null,
   "id": "a10f86f1",
   "metadata": {},
   "outputs": [],
   "source": [
    "reg.score(X_test, y_test)"
   ]
  },
  {
   "cell_type": "markdown",
   "id": "60972b8f",
   "metadata": {},
   "source": [
    "### 경사하강법"
   ]
  },
  {
   "cell_type": "code",
   "execution_count": null,
   "id": "b5064e30",
   "metadata": {},
   "outputs": [],
   "source": [
    "from sklearn.linear_model import SGDRegressor # SGF 확률적 경사하강법 \n",
    "#지수 표기법\n",
    "#1e-3 = 0.001 10^-3\n",
    "#1e-4 = 0.0001 10^-4\n",
    "#1e+3 = 1000 10^3\n",
    "#1e+4 = 10000 10^4\n",
    "\n",
    "\n",
    "# sr = SGDRegressor()\n",
    "sr = SGDRegressor(max_iter=1000, eta0=1e-4, random_state=0, verbose=1)  #에포크 방식\n",
    "sr.fit(X_train, y_train)"
   ]
  },
  {
   "cell_type": "code",
   "execution_count": null,
   "id": "5ec0fee4",
   "metadata": {},
   "outputs": [],
   "source": [
    "plt.scatter(X_test,y_test, color='blue') # 산점도 그래프\n",
    "plt.plot(X_train, sr.predict(X_train), color='green')  # 선 그래프 \n",
    "plt.title('하이닉스 BY 삼성전자(train data)')\n",
    "plt.xlabel('삼성전자')\n",
    "plt.ylabel('하이닉스')\n",
    "plt.show()"
   ]
  },
  {
   "cell_type": "code",
   "execution_count": null,
   "id": "43eb1cb2",
   "metadata": {},
   "outputs": [],
   "source": [
    "sr.coef_, sr.intercept_"
   ]
  },
  {
   "cell_type": "code",
   "execution_count": null,
   "id": "44d02abe",
   "metadata": {},
   "outputs": [],
   "source": [
    "sr.score(X_test, y_test) # 테스트 세트를 통한 모델평가"
   ]
  },
  {
   "cell_type": "code",
   "execution_count": null,
   "id": "80b62bf3",
   "metadata": {},
   "outputs": [],
   "source": [
    "sr.score(X_train, y_train) # 룬련 세트를 통한 모델평가"
   ]
  },
  {
   "cell_type": "code",
   "execution_count": null,
   "id": "91472024",
   "metadata": {},
   "outputs": [],
   "source": []
  }
 ],
 "metadata": {
  "kernelspec": {
   "display_name": "Python 3 (ipykernel)",
   "language": "python",
   "name": "python3"
  },
  "language_info": {
   "codemirror_mode": {
    "name": "ipython",
    "version": 3
   },
   "file_extension": ".py",
   "mimetype": "text/x-python",
   "name": "python",
   "nbconvert_exporter": "python",
   "pygments_lexer": "ipython3",
   "version": "3.10.9"
  }
 },
 "nbformat": 4,
 "nbformat_minor": 5
}
